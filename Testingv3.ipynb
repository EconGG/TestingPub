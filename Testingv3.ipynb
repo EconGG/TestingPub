{
  "nbformat": 4,
  "nbformat_minor": 0,
  "metadata": {
    "colab": {
      "provenance": [],
      "authorship_tag": "ABX9TyNZ57oxa1hiSgpsc+VTF/oY",
      "include_colab_link": true
    },
    "kernelspec": {
      "name": "python3",
      "display_name": "Python 3"
    },
    "language_info": {
      "name": "python"
    }
  },
  "cells": [
    {
      "cell_type": "markdown",
      "metadata": {
        "id": "view-in-github",
        "colab_type": "text"
      },
      "source": [
        "<a href=\"https://colab.research.google.com/github/EconGG/TestingPub/blob/main/Testingv3.ipynb\" target=\"_parent\"><img src=\"https://colab.research.google.com/assets/colab-badge.svg\" alt=\"Open In Colab\"/></a>"
      ]
    },
    {
      "cell_type": "code",
      "execution_count": null,
      "metadata": {
        "id": "7qM7BVoiPj2C",
        "outputId": "4ffc45ac-8cde-405b-ac48-e91b60c4676a",
        "colab": {
          "base_uri": "https://localhost:8080/"
        }
      },
      "outputs": [
        {
          "output_type": "execute_result",
          "data": {
            "text/plain": [
              "625"
            ]
          },
          "metadata": {},
          "execution_count": 9
        }
      ],
      "source": [
        "test = 5*5\n",
        "\n",
        "test2 = test*test\n",
        "test2\n"
      ]
    },
    {
      "cell_type": "code",
      "source": [
        "# prompt: print the question Are you ready to play the game with yes or no as only options\n",
        "\n",
        "print(\"Are you ready to play the game? (yes/no): \")\n",
        "answer = input()\n",
        "if answer == \"yes\":\n",
        "  print(\"Let's play!\")\n",
        "elif answer == \"no\":\n",
        "  print(\"Maybe next time.\")\n",
        "else:\n",
        "  print(\"Invalid input. Please answer yes or no.\")\n"
      ],
      "metadata": {
        "id": "g0p-XOzdXR2L",
        "outputId": "83ff3fca-781f-4fbb-9713-e7c01ce35d97",
        "colab": {
          "base_uri": "https://localhost:8080/"
        }
      },
      "execution_count": 3,
      "outputs": [
        {
          "output_type": "stream",
          "name": "stdout",
          "text": [
            "Are you ready to play the game? (yes/no): \n",
            "yes\n",
            "Let's play!\n"
          ]
        }
      ]
    },
    {
      "cell_type": "code",
      "source": [
        "import turtle as t\n",
        "playerAscore=0\n",
        "playerBscore=0\n",
        "\n",
        "#create a window and declare a variable called window and call the screen()\n",
        "window=t.Screen()\n",
        "window.title(\"The Pong Game\")\n",
        "window.bgcolor(\"green\")\n",
        "window.setup(width=800,height=600)\n",
        "window.tracer(0)\n",
        "\n",
        "#Creating the left paddle\n",
        "leftpaddle=t.Turtle()\n",
        "leftpaddle.speed(0)\n",
        "leftpaddle.shape(\"square\")\n",
        "leftpaddle.color(\"white\")\n",
        "leftpaddle.shapesize(stretch_wid=5,stretch_len=1)\n",
        "leftpaddle.penup()\n",
        "leftpaddle.goto(-350,0)\n",
        "\n",
        "#Creating the right paddle\n",
        "rightpaddle=t.Turtle()\n",
        "rightpaddle.speed(0)\n",
        "rightpaddle.shape(\"square\")\n",
        "rightpaddle.color(\"white\")\n",
        "rightpaddle.shapesize(stretch_wid=5,stretch_len=1)\n",
        "rightpaddle.penup()\n",
        "rightpaddle.goto(-350,0)\n",
        "\n",
        "#Code for creating the ball\n",
        "ball=t.Turtle()\n",
        "ball.speed(0)\n",
        "ball.shape(\"circle\")\n",
        "ball.color(\"red\")\n",
        "ball.penup()\n",
        "ball.goto(5,5)\n",
        "ballxdirection=0.2\n",
        "ballydirection=0.2\n",
        "\n",
        "#Code for creating pen for scorecard update\n",
        "pen=t.Turtle()\n",
        "pen.speed(0)\n",
        "pen.color(\"Blue\")\n",
        "pen.penup()\n",
        "pen.hideturtle()\n",
        "pen.goto(0,260)\n",
        "pen.write(\"score\",align=\"center\",font=('Arial',24,'normal'))\n",
        "\n",
        "#code for moving the leftpaddle\n",
        "def leftpaddleup():\n",
        "    y=leftpaddle.ycor()\n",
        "    y=y+90\n",
        "    leftpaddle.sety(y)\n",
        "\n",
        "def leftpaddledown():\n",
        "    y=leftpaddle.ycor()\n",
        "    y=y+90\n",
        "    leftpaddle.sety(y)\n",
        "\n",
        "#code for moving the rightpaddle\n",
        "def rightpaddleup():\n",
        "    y=rightpaddle.ycor()\n",
        "    y=y+90\n",
        "    rightpaddle.sety(y)\n",
        "\n",
        "def rightpaddledown():\n",
        "    y=rightpaddle.ycor()\n",
        "    y=y+90\n",
        "    rightpaddle.sety(y)\n",
        "\n",
        "#Assign keys to play\n",
        "window.listen()\n",
        "window.onkeypress(leftpaddleup,'w')\n",
        "window.onkeypress(leftpaddledown,'s')\n",
        "window.onkeypress(rightpaddleup,'Up')\n",
        "window.onkeypress(rightpaddledown,'Down')\n",
        "\n",
        "while True:\n",
        "    window.update()\n",
        "\n",
        "    #moving the ball\n",
        "    ball.setx(ball.xcor()+ballxdirection)\n",
        "    ball.sety(ball.ycor()+ballxdirection)\n",
        "\n",
        "    #border set up\n",
        "    if ball.ycor()>290:\n",
        "        ball.sety(290)\n",
        "        ballydirection=ballydirection*-1\n",
        "    if ball.ycor()<-290:\n",
        "        ball.sety(-290)\n",
        "        ballydirection=ballydirection*-1\n",
        "\n",
        "    if ball.xcor() > 390:\n",
        "        ball.goto(0,0)\n",
        "        ball_dx = ball_dx * -1\n",
        "        player_a_score = player_a_score + 1\n",
        "        pen.clear()\n",
        "        pen.write(\"Player A: {}                    Player B: {} \".format(player_a_score,player_b_score),align=\"center\",font=('Monaco',24,\"normal\"))\n",
        "        os.system(\"afplay wallhit.wav&\")\n",
        "\n",
        "\n",
        "\n",
        "    if(ball.xcor()) < -390: # Left width paddle Border\n",
        "        ball.goto(0,0)\n",
        "        ball_dx = ball_dx * -1\n",
        "        player_b_score = player_b_score + 1\n",
        "        pen.clear()\n",
        "        pen.write(\"Player A: {}                    Player B: {} \".format(player_a_score,player_b_score),align=\"center\",font=('Monaco',24,\"normal\"))\n",
        "        os.system(\"afplay wallhit.wav&\")\n",
        "\n",
        "     # Handling the collisions with paddles.\n",
        "\n",
        "    if(ball.xcor() > 340) and (ball.xcor() < 350) and (ball.ycor() < rightpaddle.ycor() + 40 and ball.ycor() > rightpaddle.ycor() - 40):\n",
        "        ball.setx(340)\n",
        "        ball_dx = ball_dx * -1\n",
        "        os.system(\"afplay paddle.wav&\")\n",
        "\n",
        "    if(ball.xcor() < -340) and (ball.xcor() > -350) and (ball.ycor() < leftpaddle.ycor() + 40 and ball.ycor() > leftpaddle.ycor() - 40):\n",
        "        ball.setx(-340)\n",
        "        ball_dx = ball_dx * -1\n",
        "        os.system(\"afplay paddle.wav&\")"
      ],
      "metadata": {
        "id": "DKrBrBlSXwba",
        "outputId": "a1bcc815-b7c7-4b79-d17a-0822e888afc1",
        "colab": {
          "base_uri": "https://localhost:8080/",
          "height": 356
        }
      },
      "execution_count": 8,
      "outputs": [
        {
          "output_type": "error",
          "ename": "TclError",
          "evalue": "no display name and no $DISPLAY environment variable",
          "traceback": [
            "\u001b[0;31m---------------------------------------------------------------------------\u001b[0m",
            "\u001b[0;31mTclError\u001b[0m                                  Traceback (most recent call last)",
            "\u001b[0;32m<ipython-input-8-15fcbbb2a785>\u001b[0m in \u001b[0;36m<cell line: 6>\u001b[0;34m()\u001b[0m\n\u001b[1;32m      4\u001b[0m \u001b[0;34m\u001b[0m\u001b[0m\n\u001b[1;32m      5\u001b[0m \u001b[0;31m#create a window and declare a variable called window and call the screen()\u001b[0m\u001b[0;34m\u001b[0m\u001b[0;34m\u001b[0m\u001b[0m\n\u001b[0;32m----> 6\u001b[0;31m \u001b[0mwindow\u001b[0m\u001b[0;34m=\u001b[0m\u001b[0mt\u001b[0m\u001b[0;34m.\u001b[0m\u001b[0mScreen\u001b[0m\u001b[0;34m(\u001b[0m\u001b[0;34m)\u001b[0m\u001b[0;34m\u001b[0m\u001b[0;34m\u001b[0m\u001b[0m\n\u001b[0m\u001b[1;32m      7\u001b[0m \u001b[0mwindow\u001b[0m\u001b[0;34m.\u001b[0m\u001b[0mtitle\u001b[0m\u001b[0;34m(\u001b[0m\u001b[0;34m\"The Pong Game\"\u001b[0m\u001b[0;34m)\u001b[0m\u001b[0;34m\u001b[0m\u001b[0;34m\u001b[0m\u001b[0m\n\u001b[1;32m      8\u001b[0m \u001b[0mwindow\u001b[0m\u001b[0;34m.\u001b[0m\u001b[0mbgcolor\u001b[0m\u001b[0;34m(\u001b[0m\u001b[0;34m\"green\"\u001b[0m\u001b[0;34m)\u001b[0m\u001b[0;34m\u001b[0m\u001b[0;34m\u001b[0m\u001b[0m\n",
            "\u001b[0;32m/usr/lib/python3.10/turtle.py\u001b[0m in \u001b[0;36mScreen\u001b[0;34m()\u001b[0m\n\u001b[1;32m   3662\u001b[0m     else return the existing one.\"\"\"\n\u001b[1;32m   3663\u001b[0m     \u001b[0;32mif\u001b[0m \u001b[0mTurtle\u001b[0m\u001b[0;34m.\u001b[0m\u001b[0m_screen\u001b[0m \u001b[0;32mis\u001b[0m \u001b[0;32mNone\u001b[0m\u001b[0;34m:\u001b[0m\u001b[0;34m\u001b[0m\u001b[0;34m\u001b[0m\u001b[0m\n\u001b[0;32m-> 3664\u001b[0;31m         \u001b[0mTurtle\u001b[0m\u001b[0;34m.\u001b[0m\u001b[0m_screen\u001b[0m \u001b[0;34m=\u001b[0m \u001b[0m_Screen\u001b[0m\u001b[0;34m(\u001b[0m\u001b[0;34m)\u001b[0m\u001b[0;34m\u001b[0m\u001b[0;34m\u001b[0m\u001b[0m\n\u001b[0m\u001b[1;32m   3665\u001b[0m     \u001b[0;32mreturn\u001b[0m \u001b[0mTurtle\u001b[0m\u001b[0;34m.\u001b[0m\u001b[0m_screen\u001b[0m\u001b[0;34m\u001b[0m\u001b[0;34m\u001b[0m\u001b[0m\n\u001b[1;32m   3666\u001b[0m \u001b[0;34m\u001b[0m\u001b[0m\n",
            "\u001b[0;32m/usr/lib/python3.10/turtle.py\u001b[0m in \u001b[0;36m__init__\u001b[0;34m(self)\u001b[0m\n\u001b[1;32m   3678\u001b[0m         \u001b[0;31m# preserved (perhaps by passing it as an optional parameter)\u001b[0m\u001b[0;34m\u001b[0m\u001b[0;34m\u001b[0m\u001b[0m\n\u001b[1;32m   3679\u001b[0m         \u001b[0;32mif\u001b[0m \u001b[0m_Screen\u001b[0m\u001b[0;34m.\u001b[0m\u001b[0m_root\u001b[0m \u001b[0;32mis\u001b[0m \u001b[0;32mNone\u001b[0m\u001b[0;34m:\u001b[0m\u001b[0;34m\u001b[0m\u001b[0;34m\u001b[0m\u001b[0m\n\u001b[0;32m-> 3680\u001b[0;31m             \u001b[0m_Screen\u001b[0m\u001b[0;34m.\u001b[0m\u001b[0m_root\u001b[0m \u001b[0;34m=\u001b[0m \u001b[0mself\u001b[0m\u001b[0;34m.\u001b[0m\u001b[0m_root\u001b[0m \u001b[0;34m=\u001b[0m \u001b[0m_Root\u001b[0m\u001b[0;34m(\u001b[0m\u001b[0;34m)\u001b[0m\u001b[0;34m\u001b[0m\u001b[0;34m\u001b[0m\u001b[0m\n\u001b[0m\u001b[1;32m   3681\u001b[0m             \u001b[0mself\u001b[0m\u001b[0;34m.\u001b[0m\u001b[0m_root\u001b[0m\u001b[0;34m.\u001b[0m\u001b[0mtitle\u001b[0m\u001b[0;34m(\u001b[0m\u001b[0m_Screen\u001b[0m\u001b[0;34m.\u001b[0m\u001b[0m_title\u001b[0m\u001b[0;34m)\u001b[0m\u001b[0;34m\u001b[0m\u001b[0;34m\u001b[0m\u001b[0m\n\u001b[1;32m   3682\u001b[0m             \u001b[0mself\u001b[0m\u001b[0;34m.\u001b[0m\u001b[0m_root\u001b[0m\u001b[0;34m.\u001b[0m\u001b[0mondestroy\u001b[0m\u001b[0;34m(\u001b[0m\u001b[0mself\u001b[0m\u001b[0;34m.\u001b[0m\u001b[0m_destroy\u001b[0m\u001b[0;34m)\u001b[0m\u001b[0;34m\u001b[0m\u001b[0;34m\u001b[0m\u001b[0m\n",
            "\u001b[0;32m/usr/lib/python3.10/turtle.py\u001b[0m in \u001b[0;36m__init__\u001b[0;34m(self)\u001b[0m\n\u001b[1;32m    433\u001b[0m     \u001b[0;34m\"\"\"Root class for Screen based on Tkinter.\"\"\"\u001b[0m\u001b[0;34m\u001b[0m\u001b[0;34m\u001b[0m\u001b[0m\n\u001b[1;32m    434\u001b[0m     \u001b[0;32mdef\u001b[0m \u001b[0m__init__\u001b[0m\u001b[0;34m(\u001b[0m\u001b[0mself\u001b[0m\u001b[0;34m)\u001b[0m\u001b[0;34m:\u001b[0m\u001b[0;34m\u001b[0m\u001b[0;34m\u001b[0m\u001b[0m\n\u001b[0;32m--> 435\u001b[0;31m         \u001b[0mTK\u001b[0m\u001b[0;34m.\u001b[0m\u001b[0mTk\u001b[0m\u001b[0;34m.\u001b[0m\u001b[0m__init__\u001b[0m\u001b[0;34m(\u001b[0m\u001b[0mself\u001b[0m\u001b[0;34m)\u001b[0m\u001b[0;34m\u001b[0m\u001b[0;34m\u001b[0m\u001b[0m\n\u001b[0m\u001b[1;32m    436\u001b[0m \u001b[0;34m\u001b[0m\u001b[0m\n\u001b[1;32m    437\u001b[0m     \u001b[0;32mdef\u001b[0m \u001b[0msetupcanvas\u001b[0m\u001b[0;34m(\u001b[0m\u001b[0mself\u001b[0m\u001b[0;34m,\u001b[0m \u001b[0mwidth\u001b[0m\u001b[0;34m,\u001b[0m \u001b[0mheight\u001b[0m\u001b[0;34m,\u001b[0m \u001b[0mcwidth\u001b[0m\u001b[0;34m,\u001b[0m \u001b[0mcheight\u001b[0m\u001b[0;34m)\u001b[0m\u001b[0;34m:\u001b[0m\u001b[0;34m\u001b[0m\u001b[0;34m\u001b[0m\u001b[0m\n",
            "\u001b[0;32m/usr/lib/python3.10/tkinter/__init__.py\u001b[0m in \u001b[0;36m__init__\u001b[0;34m(self, screenName, baseName, className, useTk, sync, use)\u001b[0m\n\u001b[1;32m   2297\u001b[0m                 \u001b[0mbaseName\u001b[0m \u001b[0;34m=\u001b[0m \u001b[0mbaseName\u001b[0m \u001b[0;34m+\u001b[0m \u001b[0mext\u001b[0m\u001b[0;34m\u001b[0m\u001b[0;34m\u001b[0m\u001b[0m\n\u001b[1;32m   2298\u001b[0m         \u001b[0minteractive\u001b[0m \u001b[0;34m=\u001b[0m \u001b[0;32mFalse\u001b[0m\u001b[0;34m\u001b[0m\u001b[0;34m\u001b[0m\u001b[0m\n\u001b[0;32m-> 2299\u001b[0;31m         \u001b[0mself\u001b[0m\u001b[0;34m.\u001b[0m\u001b[0mtk\u001b[0m \u001b[0;34m=\u001b[0m \u001b[0m_tkinter\u001b[0m\u001b[0;34m.\u001b[0m\u001b[0mcreate\u001b[0m\u001b[0;34m(\u001b[0m\u001b[0mscreenName\u001b[0m\u001b[0;34m,\u001b[0m \u001b[0mbaseName\u001b[0m\u001b[0;34m,\u001b[0m \u001b[0mclassName\u001b[0m\u001b[0;34m,\u001b[0m \u001b[0minteractive\u001b[0m\u001b[0;34m,\u001b[0m \u001b[0mwantobjects\u001b[0m\u001b[0;34m,\u001b[0m \u001b[0museTk\u001b[0m\u001b[0;34m,\u001b[0m \u001b[0msync\u001b[0m\u001b[0;34m,\u001b[0m \u001b[0muse\u001b[0m\u001b[0;34m)\u001b[0m\u001b[0;34m\u001b[0m\u001b[0;34m\u001b[0m\u001b[0m\n\u001b[0m\u001b[1;32m   2300\u001b[0m         \u001b[0;32mif\u001b[0m \u001b[0museTk\u001b[0m\u001b[0;34m:\u001b[0m\u001b[0;34m\u001b[0m\u001b[0;34m\u001b[0m\u001b[0m\n\u001b[1;32m   2301\u001b[0m             \u001b[0mself\u001b[0m\u001b[0;34m.\u001b[0m\u001b[0m_loadtk\u001b[0m\u001b[0;34m(\u001b[0m\u001b[0;34m)\u001b[0m\u001b[0;34m\u001b[0m\u001b[0;34m\u001b[0m\u001b[0m\n",
            "\u001b[0;31mTclError\u001b[0m: no display name and no $DISPLAY environment variable"
          ]
        }
      ]
    }
  ]
}