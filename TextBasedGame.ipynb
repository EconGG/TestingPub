{
  "nbformat": 4,
  "nbformat_minor": 0,
  "metadata": {
    "colab": {
      "provenance": [],
      "authorship_tag": "ABX9TyP/kerdihCeLk21R9pTnl2y",
      "include_colab_link": true
    },
    "kernelspec": {
      "name": "python3",
      "display_name": "Python 3"
    },
    "language_info": {
      "name": "python"
    }
  },
  "cells": [
    {
      "cell_type": "markdown",
      "metadata": {
        "id": "view-in-github",
        "colab_type": "text"
      },
      "source": [
        "<a href=\"https://colab.research.google.com/github/EconGG/TestingPub/blob/main/TextBasedGame.ipynb\" target=\"_parent\"><img src=\"https://colab.research.google.com/assets/colab-badge.svg\" alt=\"Open In Colab\"/></a>"
      ]
    },
    {
      "cell_type": "code",
      "execution_count": 12,
      "metadata": {
        "id": "7qM7BVoiPj2C",
        "outputId": "34d9ac79-55f6-48cb-affb-7109d7dd6657",
        "colab": {
          "base_uri": "https://localhost:8080/"
        }
      },
      "outputs": [
        {
          "output_type": "stream",
          "name": "stdout",
          "text": [
            "Player EXP:10\n"
          ]
        }
      ],
      "source": [
        "# Initiatlize EXP Variable\n",
        "exp = 0\n",
        "\n",
        "# Function to add EXP\n",
        "def add_exp(current_exp, amount):\n",
        "  current_exp += amount\n",
        "  return current_exp\n",
        "\n",
        "# Example of earning EXP\n",
        "exp = add_exp(exp, 10)\n",
        "print(f\"Player EXP:{exp}\") #Output: Player EXP: 10\n",
        "\n"
      ]
    },
    {
      "cell_type": "code",
      "source": [
        "from IPython.display import clear_output\n",
        "import random\n",
        "\n",
        "exp = 0\n",
        "quest1_exp_reward = 100\n",
        "\n",
        "class Player:\n",
        "  def __init__(self, name, hp=20, exp=0):\n",
        "    self.name = name\n",
        "    self.hp = hp\n",
        "    self.exp = exp\n",
        "\n",
        "  def add_exp(self, amount):\n",
        "   self.exp += amount\n",
        "   print(f\"Gained {amount} EXP! Total EXP: {self.exp}\")\n",
        "\n",
        "  def attack(self):\n",
        "      return random.randint(20,20)\n",
        "\n",
        "#Create a Player Instance\n",
        "player = Player(\"Hero\")\n",
        "\n",
        "def complete_quest(player, quest1_exp_reward):\n",
        "  print(\"\\nQuest completed!\")\n",
        "  player.add_exp(quest1_exp_reward)\n",
        "\n",
        "def add_exp(current_exp, amount):\n",
        "  current_exp += amount\n",
        "  return current_exp\n",
        "\n",
        "#STORYLINE & TEXT\n",
        "\n",
        "def start_game():\n",
        "  print(\"Welcome Traveller\")\n",
        "  player = Player(\"Hero\", hp=20)\n",
        "  first_choice(player)\n",
        "\n",
        "def get_choice(options, next_steps, player):\n",
        "    while True:\n",
        "        choice = input(f\"\\nEnter one of {options}: \")\n",
        "        if choice in options:\n",
        "            clear_output()\n",
        "            next_steps[choice](player)\n",
        "            break\n",
        "        else:\n",
        "            print(f\"Invalid choice. Please enter one of {options}.\")\n",
        "\n",
        "def first_choice(player):\n",
        "  print(\"\\nYou find yourself at a crossroads. Do you:\")\n",
        "  print(\"1. Take the path through the dark forest\")\n",
        "  print(\"2. Head towards the village in the distance\")\n",
        "\n",
        "  options = ['1', '2']\n",
        "  next_steps = {\n",
        "      '1': dark_forest,\n",
        "      '2': village\n",
        "  }\n",
        "\n",
        "  get_choice(options, next_steps, player)\n",
        "\n",
        "def dark_forest(player):\n",
        "  print(\"You enter the dark forest. It's quiet... too quiet.\")\n",
        "  print(\"Suddenly, you encounter a wild bug!\")\n",
        "  print(\"1. Fight the Bug!\")\n",
        "  print(\"2. Run Away\")\n",
        "\n",
        "  options = ['1', '2']\n",
        "  next_steps = {\n",
        "      '1': lambda player: battle(player, Bug(hp=15)),\n",
        "      '2': forest_escape\n",
        "  }\n",
        "\n",
        "  get_choice(options, next_steps, player)\n",
        "\n",
        "# BATTLE\n",
        "\n",
        "def battle(player, bug):\n",
        "    clear_output()\n",
        "    while player.hp > 0 and bug.hp > 0:\n",
        "        print(f\"\\nPlayer HP: {player.hp} | Bug HP: {bug.hp}\")\n",
        "\n",
        "        # Player's turn\n",
        "        print(\"\\nWhat do you want to do?\")\n",
        "        print(\"1. Hit the bug.\")\n",
        "        print(\"2. Run away.\")\n",
        "        choice = input(\"Enter your choice: \")\n",
        "\n",
        "        if choice == '1':\n",
        "            clear_output()\n",
        "            player_damage = player.attack()\n",
        "            bug.hp -= player_damage\n",
        "            print(f\"\\nYou attack the bug and deal {player_damage} damage.\")\n",
        "            if bug.hp <= 0:\n",
        "                print(\"You defeated the bug!\")\n",
        "                break\n",
        "        elif choice == '2':\n",
        "            clear_output()\n",
        "            print(\"You ran away from the battle.\")\n",
        "            return\n",
        "        else:\n",
        "            print(\"Invalid choice. Please enter 1 or 2.\")\n",
        "            continue\n",
        "\n",
        "        # Bug's turn\n",
        "        bug_damage = bug.attack()\n",
        "        player.hp -= bug_damage\n",
        "        print(f\"The bug attacks you and deals {bug_damage} damage.\")\n",
        "        if player.hp <= 0:\n",
        "            print(\"You were defeated by the bug.\")\n",
        "            return\n",
        "\n",
        "    if player.hp > 0:\n",
        "        bug_victory(player)\n",
        "    else:\n",
        "        game_over()\n",
        "\n",
        "def bug_victory(player):\n",
        "  print(\"YOU WIN\")\n",
        "\n",
        "  complete_quest(player, quest1_exp_reward)\n",
        "\n",
        "def game_over():\n",
        "  print(\"LOSE\")\n",
        "\n",
        "def forest_escape():\n",
        "  print(\"You enter the Village\")\n",
        "\n",
        "def village():\n",
        "  print(\"You enter the Village\")\n",
        "  quest2_exp_reward = 50\n",
        "  complete_quest(player, quest2_exp_reward)\n",
        "\n",
        "start_game()"
      ],
      "metadata": {
        "id": "AV_c3q3befhv",
        "outputId": "4248a54f-2802-4998-8cde-e7bbd7b2e734",
        "colab": {
          "base_uri": "https://localhost:8080/"
        }
      },
      "execution_count": 180,
      "outputs": [
        {
          "output_type": "stream",
          "name": "stdout",
          "text": [
            "\n",
            "You attack the bug and deal 20 damage.\n",
            "You defeated the bug!\n",
            "YOU WIN\n",
            "\n",
            "Quest completed!\n",
            "Gained 100 EXP! Total EXP: 100\n"
          ]
        }
      ]
    },
    {
      "cell_type": "code",
      "source": [],
      "metadata": {
        "id": "UaVi9Pwie1Bk"
      },
      "execution_count": null,
      "outputs": []
    }
  ]
}