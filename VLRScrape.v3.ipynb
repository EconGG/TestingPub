{
  "nbformat": 4,
  "nbformat_minor": 0,
  "metadata": {
    "colab": {
      "provenance": [],
      "authorship_tag": "ABX9TyPIZs8rdKWVsZwsSStyzTAi",
      "include_colab_link": true
    },
    "kernelspec": {
      "name": "python3",
      "display_name": "Python 3"
    },
    "language_info": {
      "name": "python"
    }
  },
  "cells": [
    {
      "cell_type": "markdown",
      "metadata": {
        "id": "view-in-github",
        "colab_type": "text"
      },
      "source": [
        "<a href=\"https://colab.research.google.com/github/EconGG/TestingPub/blob/main/VLRScrape.v3.ipynb\" target=\"_parent\"><img src=\"https://colab.research.google.com/assets/colab-badge.svg\" alt=\"Open In Colab\"/></a>"
      ]
    },
    {
      "cell_type": "code",
      "source": [
        "import requests\n",
        "from bs4 import BeautifulSoup\n",
        "from IPython.display import display, HTML\n",
        "\n",
        "# Function to extract flag icon for each player\n",
        "def extract_flag_icon(row):\n",
        "    # Find the flag icon corresponding to the player name\n",
        "    flag_icon = row.find('i', class_='flag')\n",
        "    return flag_icon\n",
        "\n",
        "# Function to extract flag image link from flag icon\n",
        "def extract_flag_image_link(flag_icon, country):\n",
        "    if flag_icon:\n",
        "        class_attribute = flag_icon['class']\n",
        "        # Extract the image name prefix from the class attribute\n",
        "        image_prefix = class_attribute[-1].replace('mod-', '')  # Remove \"mod-\" prefix\n",
        "        flag_image_link = f\"https://www.vlr.gg/img/icons/flags/16/{image_prefix}.png\"\n",
        "        return flag_image_link\n",
        "    else:\n",
        "        # Construct the flag image link based on the player's country\n",
        "        country_code = country.lower()[:2]  # Extract first two letters and convert to lowercase\n",
        "        flag_image_link = f\"https://www.vlr.gg/img/icons/flags/16/{country_code}.png\"\n",
        "        return flag_image_link\n",
        "\n",
        "# URL of the page containing the select element\n",
        "url = \"https://www.vlr.gg/stats/?event_group_id=61&event_id=all&region=all&country=all&min_rounds=200&min_rating=1550&agent=all&map_id=all&timespan=60d\"\n",
        "\n",
        "# Send a GET request to the URL\n",
        "response = requests.get(url)\n",
        "\n",
        "# Parse the HTML content\n",
        "soup = BeautifulSoup(response.text, 'html.parser')\n",
        "\n",
        "# Find the select element by its name\n",
        "select = soup.find(\"select\", {\"name\": \"event_id\"})\n",
        "\n",
        "# Check if the select element exists\n",
        "if select:\n",
        "    # Extract options\n",
        "    options = select.find_all(\"option\")\n",
        "\n",
        "    # Initialize a list to store event IDs corresponding to Champions Tour 2024\n",
        "    champions_tour_event_ids = []\n",
        "\n",
        "    # Iterate over options and extract the event IDs corresponding to Champions Tour 2024\n",
        "    for option in options:\n",
        "        event_id = option[\"value\"]\n",
        "        name = option.text.strip()\n",
        "        if \"Champions Tour 2024\" in name and event_id not in ['1923', '1926', '1925', '1924']:\n",
        "            champions_tour_event_ids.append((event_id, name))\n",
        "\n",
        "    # Loop over each Champions Tour 2024 event ID and run the provided code\n",
        "    for event_id, event_name in champions_tour_event_ids:\n",
        "        # Send a GET request to the URL with the specific event ID\n",
        "        event_url = f\"https://www.vlr.gg/stats/?event_group_id=61&event_id={event_id}&region=all&country=all&min_rounds=200&min_rating=1550&agent=all&map_id=all&timespan=60d\"\n",
        "        event_response = requests.get(event_url)\n",
        "\n",
        "        # Parse the HTML content\n",
        "        event_soup = BeautifulSoup(event_response.text, 'html.parser')\n",
        "\n",
        "        # Find the table containing the data\n",
        "        table = event_soup.find('table')\n",
        "\n",
        "        # Extract headers from the table\n",
        "        headers = [header.text.strip() for header in table.find_all('th')]\n",
        "\n",
        "        # Extract data from the table\n",
        "        data = {}\n",
        "        for header in headers:\n",
        "            data[header] = []\n",
        "\n",
        "        for row in table.find_all('tr'):\n",
        "            cols = row.find_all('td')\n",
        "            cols = [col.text.strip() for col in cols]\n",
        "            if len(cols) == len(headers):  # Exclude header rows\n",
        "                for i, header in enumerate(headers):\n",
        "                    data[header].append(cols[i])\n",
        "\n",
        "        # Convert numerical data to float for sorting\n",
        "        numerical_headers = ['K:D', 'ACS', 'ADR', 'KPR', 'APR', 'FK']\n",
        "        for header in numerical_headers:\n",
        "            data[header] = [float(value) if value else 0 for value in data[header]]\n",
        "\n",
        "        # Sort data by each numerical category and print top 5 players\n",
        "        print(f\"Top 5 Players for {event_name}\")\n",
        "        for header in numerical_headers:\n",
        "            print(f\"\\nTop 5 Players by {header}:\")\n",
        "            sorted_indices = sorted(range(len(data[header])), key=lambda i: data[header][i], reverse=True)[:5]\n",
        "            for index in sorted_indices:\n",
        "                player_name = data['Player'][index]\n",
        "                formatted_player_name = ' '.join(player_name.split())  # Remove extra whitespaces\n",
        "\n",
        "                # Get the flag icon for the player if available\n",
        "                flag_icon = extract_flag_icon(table.find_all('tr')[index]) if index < len(table.find_all('tr')) else None\n",
        "\n",
        "                # Extract the player's country from the table row\n",
        "                # We need to determine the correct column index for the player's country\n",
        "                country_column_index = headers.index('Country') if 'Country' in headers else -1\n",
        "                player_country = data['Country'][index] if country_column_index != -1 and index < len(data['Country']) else 'Unknown'\n",
        "\n",
        "                # Extract the flag image link\n",
        "                flag_image_link = extract_flag_image_link(flag_icon, player_country)\n",
        "\n",
        "                # Display the flag image and player's name on the same line\n",
        "                display(HTML(f\"<img src='{flag_image_link}' alt='Flag' style='vertical-align: middle;'> {formatted_player_name}: {data[header][index]}\"))\n",
        "        print(\"\\n--------------------------------------\\n\")\n",
        "\n",
        "else:\n",
        "    print(\"Select element not found.\")\n"
      ],
      "metadata": {
        "id": "DdEqF_8pqyML",
        "outputId": "f05d91dc-851a-4f5d-9aa9-54765e473d69",
        "colab": {
          "base_uri": "https://localhost:8080/",
          "height": 1000
        }
      },
      "execution_count": 3,
      "outputs": [
        {
          "output_type": "stream",
          "name": "stdout",
          "text": [
            "Top 5 Players for Champions Tour 2024: China Stage 1\n",
            "\n",
            "Top 5 Players by K:D:\n"
          ]
        },
        {
          "output_type": "display_data",
          "data": {
            "text/plain": [
              "<IPython.core.display.HTML object>"
            ],
            "text/html": [
              "<img src='https://www.vlr.gg/img/icons/flags/16/cn.png' alt='Flag' style='vertical-align: middle;'> ZmjjKK EDG: 1.3"
            ]
          },
          "metadata": {}
        },
        {
          "output_type": "display_data",
          "data": {
            "text/plain": [
              "<IPython.core.display.HTML object>"
            ],
            "text/html": [
              "<img src='https://www.vlr.gg/img/icons/flags/16/au.png' alt='Flag' style='vertical-align: middle;'> Lysoar: 1.27"
            ]
          },
          "metadata": {}
        },
        {
          "output_type": "display_data",
          "data": {
            "text/plain": [
              "<IPython.core.display.HTML object>"
            ],
            "text/html": [
              "<img src='https://www.vlr.gg/img/icons/flags/16/ir.png' alt='Flag' style='vertical-align: middle;'> Smoggy EDG: 1.21"
            ]
          },
          "metadata": {}
        },
        {
          "output_type": "display_data",
          "data": {
            "text/plain": [
              "<IPython.core.display.HTML object>"
            ],
            "text/html": [
              "<img src='https://www.vlr.gg/img/icons/flags/16/cn.png' alt='Flag' style='vertical-align: middle;'> Autumn FPX: 1.14"
            ]
          },
          "metadata": {}
        },
        {
          "output_type": "display_data",
          "data": {
            "text/plain": [
              "<IPython.core.display.HTML object>"
            ],
            "text/html": [
              "<img src='https://www.vlr.gg/img/icons/flags/16/cn.png' alt='Flag' style='vertical-align: middle;'> whzy Toe: 1.13"
            ]
          },
          "metadata": {}
        },
        {
          "output_type": "stream",
          "name": "stdout",
          "text": [
            "\n",
            "Top 5 Players by ACS:\n"
          ]
        },
        {
          "output_type": "display_data",
          "data": {
            "text/plain": [
              "<IPython.core.display.HTML object>"
            ],
            "text/html": [
              "<img src='https://www.vlr.gg/img/icons/flags/16/cn.png' alt='Flag' style='vertical-align: middle;'> ZmjjKK EDG: 276.7"
            ]
          },
          "metadata": {}
        },
        {
          "output_type": "display_data",
          "data": {
            "text/plain": [
              "<IPython.core.display.HTML object>"
            ],
            "text/html": [
              "<img src='https://www.vlr.gg/img/icons/flags/16/tw.png' alt='Flag' style='vertical-align: middle;'> Life FPX: 246.9"
            ]
          },
          "metadata": {}
        },
        {
          "output_type": "display_data",
          "data": {
            "text/plain": [
              "<IPython.core.display.HTML object>"
            ],
            "text/html": [
              "<img src='https://www.vlr.gg/img/icons/flags/16/cn.png' alt='Flag' style='vertical-align: middle;'> whzy Toe: 244.3"
            ]
          },
          "metadata": {}
        },
        {
          "output_type": "display_data",
          "data": {
            "text/plain": [
              "<IPython.core.display.HTML object>"
            ],
            "text/html": [
              "<img src='https://www.vlr.gg/img/icons/flags/16/cn.png' alt='Flag' style='vertical-align: middle;'> FengF TE: 240.6"
            ]
          },
          "metadata": {}
        },
        {
          "output_type": "display_data",
          "data": {
            "text/plain": [
              "<IPython.core.display.HTML object>"
            ],
            "text/html": [
              "<img src='https://www.vlr.gg/img/icons/flags/16/cn.png' alt='Flag' style='vertical-align: middle;'> SWERL NOVA: 231.5"
            ]
          },
          "metadata": {}
        },
        {
          "output_type": "stream",
          "name": "stdout",
          "text": [
            "\n",
            "Top 5 Players by ADR:\n"
          ]
        },
        {
          "output_type": "display_data",
          "data": {
            "text/plain": [
              "<IPython.core.display.HTML object>"
            ],
            "text/html": [
              "<img src='https://www.vlr.gg/img/icons/flags/16/un.png' alt='Flag' style='vertical-align: middle;'> Haodong EDG: 0"
            ]
          },
          "metadata": {}
        },
        {
          "output_type": "display_data",
          "data": {
            "text/plain": [
              "<IPython.core.display.HTML object>"
            ],
            "text/html": [
              "<img src='https://www.vlr.gg/img/icons/flags/16/cn.png' alt='Flag' style='vertical-align: middle;'> Nicc DRG: 0"
            ]
          },
          "metadata": {}
        },
        {
          "output_type": "display_data",
          "data": {
            "text/plain": [
              "<IPython.core.display.HTML object>"
            ],
            "text/html": [
              "<img src='https://www.vlr.gg/img/icons/flags/16/tw.png' alt='Flag' style='vertical-align: middle;'> Knight BLG: 0"
            ]
          },
          "metadata": {}
        },
        {
          "output_type": "display_data",
          "data": {
            "text/plain": [
              "<IPython.core.display.HTML object>"
            ],
            "text/html": [
              "<img src='https://www.vlr.gg/img/icons/flags/16/cn.png' alt='Flag' style='vertical-align: middle;'> Biank BLG: 0"
            ]
          },
          "metadata": {}
        },
        {
          "output_type": "display_data",
          "data": {
            "text/plain": [
              "<IPython.core.display.HTML object>"
            ],
            "text/html": [
              "<img src='https://www.vlr.gg/img/icons/flags/16/cn.png' alt='Flag' style='vertical-align: middle;'> whzy Toe: 0"
            ]
          },
          "metadata": {}
        },
        {
          "output_type": "stream",
          "name": "stdout",
          "text": [
            "\n",
            "Top 5 Players by KPR:\n"
          ]
        },
        {
          "output_type": "display_data",
          "data": {
            "text/plain": [
              "<IPython.core.display.HTML object>"
            ],
            "text/html": [
              "<img src='https://www.vlr.gg/img/icons/flags/16/cn.png' alt='Flag' style='vertical-align: middle;'> ZmjjKK EDG: 0.96"
            ]
          },
          "metadata": {}
        },
        {
          "output_type": "display_data",
          "data": {
            "text/plain": [
              "<IPython.core.display.HTML object>"
            ],
            "text/html": [
              "<img src='https://www.vlr.gg/img/icons/flags/16/cn.png' alt='Flag' style='vertical-align: middle;'> whzy Toe: 0.84"
            ]
          },
          "metadata": {}
        },
        {
          "output_type": "display_data",
          "data": {
            "text/plain": [
              "<IPython.core.display.HTML object>"
            ],
            "text/html": [
              "<img src='https://www.vlr.gg/img/icons/flags/16/cn.png' alt='Flag' style='vertical-align: middle;'> vo0kashu DRG: 0.83"
            ]
          },
          "metadata": {}
        },
        {
          "output_type": "display_data",
          "data": {
            "text/plain": [
              "<IPython.core.display.HTML object>"
            ],
            "text/html": [
              "<img src='https://www.vlr.gg/img/icons/flags/16/tw.png' alt='Flag' style='vertical-align: middle;'> Life FPX: 0.83"
            ]
          },
          "metadata": {}
        },
        {
          "output_type": "display_data",
          "data": {
            "text/plain": [
              "<IPython.core.display.HTML object>"
            ],
            "text/html": [
              "<img src='https://www.vlr.gg/img/icons/flags/16/cn.png' alt='Flag' style='vertical-align: middle;'> FengF TE: 0.81"
            ]
          },
          "metadata": {}
        },
        {
          "output_type": "stream",
          "name": "stdout",
          "text": [
            "\n",
            "Top 5 Players by APR:\n"
          ]
        },
        {
          "output_type": "display_data",
          "data": {
            "text/plain": [
              "<IPython.core.display.HTML object>"
            ],
            "text/html": [
              "<img src='https://www.vlr.gg/img/icons/flags/16/cn.png' alt='Flag' style='vertical-align: middle;'> Biank BLG: 0.39"
            ]
          },
          "metadata": {}
        },
        {
          "output_type": "display_data",
          "data": {
            "text/plain": [
              "<IPython.core.display.HTML object>"
            ],
            "text/html": [
              "<img src='https://www.vlr.gg/img/icons/flags/16/cn.png' alt='Flag' style='vertical-align: middle;'> Nicc DRG: 0.38"
            ]
          },
          "metadata": {}
        },
        {
          "output_type": "display_data",
          "data": {
            "text/plain": [
              "<IPython.core.display.HTML object>"
            ],
            "text/html": [
              "<img src='https://www.vlr.gg/img/icons/flags/16/un.png' alt='Flag' style='vertical-align: middle;'> Haodong EDG: 0.36"
            ]
          },
          "metadata": {}
        },
        {
          "output_type": "display_data",
          "data": {
            "text/plain": [
              "<IPython.core.display.HTML object>"
            ],
            "text/html": [
              "<img src='https://www.vlr.gg/img/icons/flags/16/cn.png' alt='Flag' style='vertical-align: middle;'> BerLIN FPX: 0.35"
            ]
          },
          "metadata": {}
        },
        {
          "output_type": "display_data",
          "data": {
            "text/plain": [
              "<IPython.core.display.HTML object>"
            ],
            "text/html": [
              "<img src='https://www.vlr.gg/img/icons/flags/16/cn.png' alt='Flag' style='vertical-align: middle;'> o0o0o NOVA: 0.35"
            ]
          },
          "metadata": {}
        },
        {
          "output_type": "stream",
          "name": "stdout",
          "text": [
            "\n",
            "Top 5 Players by FK:\n"
          ]
        },
        {
          "output_type": "display_data",
          "data": {
            "text/plain": [
              "<IPython.core.display.HTML object>"
            ],
            "text/html": [
              "<img src='https://www.vlr.gg/img/icons/flags/16/un.png' alt='Flag' style='vertical-align: middle;'> Haodong EDG: 0.0"
            ]
          },
          "metadata": {}
        },
        {
          "output_type": "display_data",
          "data": {
            "text/plain": [
              "<IPython.core.display.HTML object>"
            ],
            "text/html": [
              "<img src='https://www.vlr.gg/img/icons/flags/16/cn.png' alt='Flag' style='vertical-align: middle;'> Nicc DRG: 0.0"
            ]
          },
          "metadata": {}
        },
        {
          "output_type": "display_data",
          "data": {
            "text/plain": [
              "<IPython.core.display.HTML object>"
            ],
            "text/html": [
              "<img src='https://www.vlr.gg/img/icons/flags/16/tw.png' alt='Flag' style='vertical-align: middle;'> Knight BLG: 0.0"
            ]
          },
          "metadata": {}
        },
        {
          "output_type": "display_data",
          "data": {
            "text/plain": [
              "<IPython.core.display.HTML object>"
            ],
            "text/html": [
              "<img src='https://www.vlr.gg/img/icons/flags/16/cn.png' alt='Flag' style='vertical-align: middle;'> Biank BLG: 0.0"
            ]
          },
          "metadata": {}
        },
        {
          "output_type": "display_data",
          "data": {
            "text/plain": [
              "<IPython.core.display.HTML object>"
            ],
            "text/html": [
              "<img src='https://www.vlr.gg/img/icons/flags/16/cn.png' alt='Flag' style='vertical-align: middle;'> whzy Toe: 0.0"
            ]
          },
          "metadata": {}
        },
        {
          "output_type": "stream",
          "name": "stdout",
          "text": [
            "\n",
            "--------------------------------------\n",
            "\n",
            "Top 5 Players for Champions Tour 2024: Americas Stage 1\n",
            "\n",
            "Top 5 Players by K:D:\n"
          ]
        },
        {
          "output_type": "display_data",
          "data": {
            "text/plain": [
              "<IPython.core.display.HTML object>"
            ],
            "text/html": [
              "<img src='https://www.vlr.gg/img/icons/flags/16/un.png' alt='Flag' style='vertical-align: middle;'> aspas LEV: 1.51"
            ]
          },
          "metadata": {}
        },
        {
          "output_type": "display_data",
          "data": {
            "text/plain": [
              "<IPython.core.display.HTML object>"
            ],
            "text/html": [
              "<img src='https://www.vlr.gg/img/icons/flags/16/ca.png' alt='Flag' style='vertical-align: middle;'> Cryocells 100T: 1.35"
            ]
          },
          "metadata": {}
        },
        {
          "output_type": "display_data",
          "data": {
            "text/plain": [
              "<IPython.core.display.HTML object>"
            ],
            "text/html": [
              "<img src='https://www.vlr.gg/img/icons/flags/16/us.png' alt='Flag' style='vertical-align: middle;'> eeiu 100T: 1.26"
            ]
          },
          "metadata": {}
        },
        {
          "output_type": "display_data",
          "data": {
            "text/plain": [
              "<IPython.core.display.HTML object>"
            ],
            "text/html": [
              "<img src='https://www.vlr.gg/img/icons/flags/16/us.png' alt='Flag' style='vertical-align: middle;'> bang 100T: 1.24"
            ]
          },
          "metadata": {}
        },
        {
          "output_type": "display_data",
          "data": {
            "text/plain": [
              "<IPython.core.display.HTML object>"
            ],
            "text/html": [
              "<img src='https://www.vlr.gg/img/icons/flags/16/ca.png' alt='Flag' style='vertical-align: middle;'> OXY C9: 1.19"
            ]
          },
          "metadata": {}
        },
        {
          "output_type": "stream",
          "name": "stdout",
          "text": [
            "\n",
            "Top 5 Players by ACS:\n"
          ]
        },
        {
          "output_type": "display_data",
          "data": {
            "text/plain": [
              "<IPython.core.display.HTML object>"
            ],
            "text/html": [
              "<img src='https://www.vlr.gg/img/icons/flags/16/ca.png' alt='Flag' style='vertical-align: middle;'> OXY C9: 274.8"
            ]
          },
          "metadata": {}
        },
        {
          "output_type": "display_data",
          "data": {
            "text/plain": [
              "<IPython.core.display.HTML object>"
            ],
            "text/html": [
              "<img src='https://www.vlr.gg/img/icons/flags/16/un.png' alt='Flag' style='vertical-align: middle;'> aspas LEV: 260.3"
            ]
          },
          "metadata": {}
        },
        {
          "output_type": "display_data",
          "data": {
            "text/plain": [
              "<IPython.core.display.HTML object>"
            ],
            "text/html": [
              "<img src='https://www.vlr.gg/img/icons/flags/16/us.png' alt='Flag' style='vertical-align: middle;'> keznit KRÜ: 251.1"
            ]
          },
          "metadata": {}
        },
        {
          "output_type": "display_data",
          "data": {
            "text/plain": [
              "<IPython.core.display.HTML object>"
            ],
            "text/html": [
              "<img src='https://www.vlr.gg/img/icons/flags/16/br.png' alt='Flag' style='vertical-align: middle;'> zekken SEN: 247.2"
            ]
          },
          "metadata": {}
        },
        {
          "output_type": "display_data",
          "data": {
            "text/plain": [
              "<IPython.core.display.HTML object>"
            ],
            "text/html": [
              "<img src='https://www.vlr.gg/img/icons/flags/16/ca.png' alt='Flag' style='vertical-align: middle;'> Cryocells 100T: 243.0"
            ]
          },
          "metadata": {}
        },
        {
          "output_type": "stream",
          "name": "stdout",
          "text": [
            "\n",
            "Top 5 Players by ADR:\n"
          ]
        },
        {
          "output_type": "display_data",
          "data": {
            "text/plain": [
              "<IPython.core.display.HTML object>"
            ],
            "text/html": [
              "<img src='https://www.vlr.gg/img/icons/flags/16/ca.png' alt='Flag' style='vertical-align: middle;'> OXY C9: 178.3"
            ]
          },
          "metadata": {}
        },
        {
          "output_type": "display_data",
          "data": {
            "text/plain": [
              "<IPython.core.display.HTML object>"
            ],
            "text/html": [
              "<img src='https://www.vlr.gg/img/icons/flags/16/un.png' alt='Flag' style='vertical-align: middle;'> aspas LEV: 175.1"
            ]
          },
          "metadata": {}
        },
        {
          "output_type": "display_data",
          "data": {
            "text/plain": [
              "<IPython.core.display.HTML object>"
            ],
            "text/html": [
              "<img src='https://www.vlr.gg/img/icons/flags/16/us.png' alt='Flag' style='vertical-align: middle;'> keznit KRÜ: 168.5"
            ]
          },
          "metadata": {}
        },
        {
          "output_type": "display_data",
          "data": {
            "text/plain": [
              "<IPython.core.display.HTML object>"
            ],
            "text/html": [
              "<img src='https://www.vlr.gg/img/icons/flags/16/ca.png' alt='Flag' style='vertical-align: middle;'> Cryocells 100T: 161.1"
            ]
          },
          "metadata": {}
        },
        {
          "output_type": "display_data",
          "data": {
            "text/plain": [
              "<IPython.core.display.HTML object>"
            ],
            "text/html": [
              "<img src='https://www.vlr.gg/img/icons/flags/16/br.png' alt='Flag' style='vertical-align: middle;'> zekken SEN: 152.6"
            ]
          },
          "metadata": {}
        },
        {
          "output_type": "stream",
          "name": "stdout",
          "text": [
            "\n",
            "Top 5 Players by KPR:\n"
          ]
        },
        {
          "output_type": "display_data",
          "data": {
            "text/plain": [
              "<IPython.core.display.HTML object>"
            ],
            "text/html": [
              "<img src='https://www.vlr.gg/img/icons/flags/16/ca.png' alt='Flag' style='vertical-align: middle;'> OXY C9: 0.96"
            ]
          },
          "metadata": {}
        },
        {
          "output_type": "display_data",
          "data": {
            "text/plain": [
              "<IPython.core.display.HTML object>"
            ],
            "text/html": [
              "<img src='https://www.vlr.gg/img/icons/flags/16/un.png' alt='Flag' style='vertical-align: middle;'> aspas LEV: 0.95"
            ]
          },
          "metadata": {}
        },
        {
          "output_type": "display_data",
          "data": {
            "text/plain": [
              "<IPython.core.display.HTML object>"
            ],
            "text/html": [
              "<img src='https://www.vlr.gg/img/icons/flags/16/ca.png' alt='Flag' style='vertical-align: middle;'> Cryocells 100T: 0.88"
            ]
          },
          "metadata": {}
        },
        {
          "output_type": "display_data",
          "data": {
            "text/plain": [
              "<IPython.core.display.HTML object>"
            ],
            "text/html": [
              "<img src='https://www.vlr.gg/img/icons/flags/16/us.png' alt='Flag' style='vertical-align: middle;'> keznit KRÜ: 0.87"
            ]
          },
          "metadata": {}
        },
        {
          "output_type": "display_data",
          "data": {
            "text/plain": [
              "<IPython.core.display.HTML object>"
            ],
            "text/html": [
              "<img src='https://www.vlr.gg/img/icons/flags/16/br.png' alt='Flag' style='vertical-align: middle;'> zekken SEN: 0.82"
            ]
          },
          "metadata": {}
        },
        {
          "output_type": "stream",
          "name": "stdout",
          "text": [
            "\n",
            "Top 5 Players by APR:\n"
          ]
        },
        {
          "output_type": "display_data",
          "data": {
            "text/plain": [
              "<IPython.core.display.HTML object>"
            ],
            "text/html": [
              "<img src='https://www.vlr.gg/img/icons/flags/16/br.png' alt='Flag' style='vertical-align: middle;'> TenZ SEN: 0.53"
            ]
          },
          "metadata": {}
        },
        {
          "output_type": "display_data",
          "data": {
            "text/plain": [
              "<IPython.core.display.HTML object>"
            ],
            "text/html": [
              "<img src='https://www.vlr.gg/img/icons/flags/16/cl.png' alt='Flag' style='vertical-align: middle;'> Xeppaa C9: 0.5"
            ]
          },
          "metadata": {}
        },
        {
          "output_type": "display_data",
          "data": {
            "text/plain": [
              "<IPython.core.display.HTML object>"
            ],
            "text/html": [
              "<img src='https://www.vlr.gg/img/icons/flags/16/br.png' alt='Flag' style='vertical-align: middle;'> JonahP G2: 0.44"
            ]
          },
          "metadata": {}
        },
        {
          "output_type": "display_data",
          "data": {
            "text/plain": [
              "<IPython.core.display.HTML object>"
            ],
            "text/html": [
              "<img src='https://www.vlr.gg/img/icons/flags/16/us.png' alt='Flag' style='vertical-align: middle;'> Ethan NRG: 0.43"
            ]
          },
          "metadata": {}
        },
        {
          "output_type": "display_data",
          "data": {
            "text/plain": [
              "<IPython.core.display.HTML object>"
            ],
            "text/html": [
              "<img src='https://www.vlr.gg/img/icons/flags/16/us.png' alt='Flag' style='vertical-align: middle;'> Mazino LEV: 0.4"
            ]
          },
          "metadata": {}
        },
        {
          "output_type": "stream",
          "name": "stdout",
          "text": [
            "\n",
            "Top 5 Players by FK:\n"
          ]
        },
        {
          "output_type": "display_data",
          "data": {
            "text/plain": [
              "<IPython.core.display.HTML object>"
            ],
            "text/html": [
              "<img src='https://www.vlr.gg/img/icons/flags/16/un.png' alt='Flag' style='vertical-align: middle;'> aspas LEV: 89.0"
            ]
          },
          "metadata": {}
        },
        {
          "output_type": "display_data",
          "data": {
            "text/plain": [
              "<IPython.core.display.HTML object>"
            ],
            "text/html": [
              "<img src='https://www.vlr.gg/img/icons/flags/16/ca.png' alt='Flag' style='vertical-align: middle;'> OXY C9: 78.0"
            ]
          },
          "metadata": {}
        },
        {
          "output_type": "display_data",
          "data": {
            "text/plain": [
              "<IPython.core.display.HTML object>"
            ],
            "text/html": [
              "<img src='https://www.vlr.gg/img/icons/flags/16/us.png' alt='Flag' style='vertical-align: middle;'> keznit KRÜ: 77.0"
            ]
          },
          "metadata": {}
        },
        {
          "output_type": "display_data",
          "data": {
            "text/plain": [
              "<IPython.core.display.HTML object>"
            ],
            "text/html": [
              "<img src='https://www.vlr.gg/img/icons/flags/16/us.png' alt='Flag' style='vertical-align: middle;'> icy G2: 75.0"
            ]
          },
          "metadata": {}
        },
        {
          "output_type": "display_data",
          "data": {
            "text/plain": [
              "<IPython.core.display.HTML object>"
            ],
            "text/html": [
              "<img src='https://www.vlr.gg/img/icons/flags/16/us.png' alt='Flag' style='vertical-align: middle;'> Asuna 100T: 66.0"
            ]
          },
          "metadata": {}
        },
        {
          "output_type": "stream",
          "name": "stdout",
          "text": [
            "\n",
            "--------------------------------------\n",
            "\n",
            "Top 5 Players for Champions Tour 2024: EMEA Stage 1\n",
            "\n",
            "Top 5 Players by K:D:\n"
          ]
        },
        {
          "output_type": "display_data",
          "data": {
            "text/plain": [
              "<IPython.core.display.HTML object>"
            ],
            "text/html": [
              "<img src='https://www.vlr.gg/img/icons/flags/16/un.png' alt='Flag' style='vertical-align: middle;'> Leo FNC: 1.34"
            ]
          },
          "metadata": {}
        },
        {
          "output_type": "display_data",
          "data": {
            "text/plain": [
              "<IPython.core.display.HTML object>"
            ],
            "text/html": [
              "<img src='https://www.vlr.gg/img/icons/flags/16/se.png' alt='Flag' style='vertical-align: middle;'> cNed FUT: 1.25"
            ]
          },
          "metadata": {}
        },
        {
          "output_type": "display_data",
          "data": {
            "text/plain": [
              "<IPython.core.display.HTML object>"
            ],
            "text/html": [
              "<img src='https://www.vlr.gg/img/icons/flags/16/se.png' alt='Flag' style='vertical-align: middle;'> benjyfishy TH: 1.25"
            ]
          },
          "metadata": {}
        },
        {
          "output_type": "display_data",
          "data": {
            "text/plain": [
              "<IPython.core.display.HTML object>"
            ],
            "text/html": [
              "<img src='https://www.vlr.gg/img/icons/flags/16/lv.png' alt='Flag' style='vertical-align: middle;'> Sayf VIT: 1.23"
            ]
          },
          "metadata": {}
        },
        {
          "output_type": "display_data",
          "data": {
            "text/plain": [
              "<IPython.core.display.HTML object>"
            ],
            "text/html": [
              "<img src='https://www.vlr.gg/img/icons/flags/16/pt.png' alt='Flag' style='vertical-align: middle;'> Elite BBL: 1.21"
            ]
          },
          "metadata": {}
        },
        {
          "output_type": "stream",
          "name": "stdout",
          "text": [
            "\n",
            "Top 5 Players by ACS:\n"
          ]
        },
        {
          "output_type": "display_data",
          "data": {
            "text/plain": [
              "<IPython.core.display.HTML object>"
            ],
            "text/html": [
              "<img src='https://www.vlr.gg/img/icons/flags/16/se.png' alt='Flag' style='vertical-align: middle;'> cNed FUT: 238.6"
            ]
          },
          "metadata": {}
        },
        {
          "output_type": "display_data",
          "data": {
            "text/plain": [
              "<IPython.core.display.HTML object>"
            ],
            "text/html": [
              "<img src='https://www.vlr.gg/img/icons/flags/16/fi.png' alt='Flag' style='vertical-align: middle;'> QutionerX BBL: 237.5"
            ]
          },
          "metadata": {}
        },
        {
          "output_type": "display_data",
          "data": {
            "text/plain": [
              "<IPython.core.display.HTML object>"
            ],
            "text/html": [
              "<img src='https://www.vlr.gg/img/icons/flags/16/ru.png' alt='Flag' style='vertical-align: middle;'> Keiko TL: 229.0"
            ]
          },
          "metadata": {}
        },
        {
          "output_type": "display_data",
          "data": {
            "text/plain": [
              "<IPython.core.display.HTML object>"
            ],
            "text/html": [
              "<img src='https://www.vlr.gg/img/icons/flags/16/ru.png' alt='Flag' style='vertical-align: middle;'> MiniBoo TH: 227.6"
            ]
          },
          "metadata": {}
        },
        {
          "output_type": "display_data",
          "data": {
            "text/plain": [
              "<IPython.core.display.HTML object>"
            ],
            "text/html": [
              "<img src='https://www.vlr.gg/img/icons/flags/16/lv.png' alt='Flag' style='vertical-align: middle;'> Sayf VIT: 226.6"
            ]
          },
          "metadata": {}
        },
        {
          "output_type": "stream",
          "name": "stdout",
          "text": [
            "\n",
            "Top 5 Players by ADR:\n"
          ]
        },
        {
          "output_type": "display_data",
          "data": {
            "text/plain": [
              "<IPython.core.display.HTML object>"
            ],
            "text/html": [
              "<img src='https://www.vlr.gg/img/icons/flags/16/fi.png' alt='Flag' style='vertical-align: middle;'> QutionerX BBL: 162.0"
            ]
          },
          "metadata": {}
        },
        {
          "output_type": "display_data",
          "data": {
            "text/plain": [
              "<IPython.core.display.HTML object>"
            ],
            "text/html": [
              "<img src='https://www.vlr.gg/img/icons/flags/16/se.png' alt='Flag' style='vertical-align: middle;'> cNed FUT: 155.6"
            ]
          },
          "metadata": {}
        },
        {
          "output_type": "display_data",
          "data": {
            "text/plain": [
              "<IPython.core.display.HTML object>"
            ],
            "text/html": [
              "<img src='https://www.vlr.gg/img/icons/flags/16/ru.png' alt='Flag' style='vertical-align: middle;'> Keiko TL: 149.9"
            ]
          },
          "metadata": {}
        },
        {
          "output_type": "display_data",
          "data": {
            "text/plain": [
              "<IPython.core.display.HTML object>"
            ],
            "text/html": [
              "<img src='https://www.vlr.gg/img/icons/flags/16/us.png' alt='Flag' style='vertical-align: middle;'> marteen KC: 148.9"
            ]
          },
          "metadata": {}
        },
        {
          "output_type": "display_data",
          "data": {
            "text/plain": [
              "<IPython.core.display.HTML object>"
            ],
            "text/html": [
              "<img src='https://www.vlr.gg/img/icons/flags/16/ru.png' alt='Flag' style='vertical-align: middle;'> MiniBoo TH: 148.2"
            ]
          },
          "metadata": {}
        },
        {
          "output_type": "stream",
          "name": "stdout",
          "text": [
            "\n",
            "Top 5 Players by KPR:\n"
          ]
        },
        {
          "output_type": "display_data",
          "data": {
            "text/plain": [
              "<IPython.core.display.HTML object>"
            ],
            "text/html": [
              "<img src='https://www.vlr.gg/img/icons/flags/16/se.png' alt='Flag' style='vertical-align: middle;'> cNed FUT: 0.85"
            ]
          },
          "metadata": {}
        },
        {
          "output_type": "display_data",
          "data": {
            "text/plain": [
              "<IPython.core.display.HTML object>"
            ],
            "text/html": [
              "<img src='https://www.vlr.gg/img/icons/flags/16/lv.png' alt='Flag' style='vertical-align: middle;'> Sayf VIT: 0.83"
            ]
          },
          "metadata": {}
        },
        {
          "output_type": "display_data",
          "data": {
            "text/plain": [
              "<IPython.core.display.HTML object>"
            ],
            "text/html": [
              "<img src='https://www.vlr.gg/img/icons/flags/16/ru.png' alt='Flag' style='vertical-align: middle;'> Keiko TL: 0.82"
            ]
          },
          "metadata": {}
        },
        {
          "output_type": "display_data",
          "data": {
            "text/plain": [
              "<IPython.core.display.HTML object>"
            ],
            "text/html": [
              "<img src='https://www.vlr.gg/img/icons/flags/16/fi.png' alt='Flag' style='vertical-align: middle;'> QutionerX BBL: 0.81"
            ]
          },
          "metadata": {}
        },
        {
          "output_type": "display_data",
          "data": {
            "text/plain": [
              "<IPython.core.display.HTML object>"
            ],
            "text/html": [
              "<img src='https://www.vlr.gg/img/icons/flags/16/se.png' alt='Flag' style='vertical-align: middle;'> benjyfishy TH: 0.79"
            ]
          },
          "metadata": {}
        },
        {
          "output_type": "stream",
          "name": "stdout",
          "text": [
            "\n",
            "Top 5 Players by APR:\n"
          ]
        },
        {
          "output_type": "display_data",
          "data": {
            "text/plain": [
              "<IPython.core.display.HTML object>"
            ],
            "text/html": [
              "<img src='https://www.vlr.gg/img/icons/flags/16/tr.png' alt='Flag' style='vertical-align: middle;'> trexx VIT: 0.5"
            ]
          },
          "metadata": {}
        },
        {
          "output_type": "display_data",
          "data": {
            "text/plain": [
              "<IPython.core.display.HTML object>"
            ],
            "text/html": [
              "<img src='https://www.vlr.gg/img/icons/flags/16/se.png' alt='Flag' style='vertical-align: middle;'> starxo KOI: 0.48"
            ]
          },
          "metadata": {}
        },
        {
          "output_type": "display_data",
          "data": {
            "text/plain": [
              "<IPython.core.display.HTML object>"
            ],
            "text/html": [
              "<img src='https://www.vlr.gg/img/icons/flags/16/mk.png' alt='Flag' style='vertical-align: middle;'> Boo TH: 0.42"
            ]
          },
          "metadata": {}
        },
        {
          "output_type": "display_data",
          "data": {
            "text/plain": [
              "<IPython.core.display.HTML object>"
            ],
            "text/html": [
              "<img src='https://www.vlr.gg/img/icons/flags/16/tr.png' alt='Flag' style='vertical-align: middle;'> Chronicle FNC: 0.41"
            ]
          },
          "metadata": {}
        },
        {
          "output_type": "display_data",
          "data": {
            "text/plain": [
              "<IPython.core.display.HTML object>"
            ],
            "text/html": [
              "<img src='https://www.vlr.gg/img/icons/flags/16/tr.png' alt='Flag' style='vertical-align: middle;'> Shao NAVI: 0.4"
            ]
          },
          "metadata": {}
        },
        {
          "output_type": "stream",
          "name": "stdout",
          "text": [
            "\n",
            "Top 5 Players by FK:\n"
          ]
        },
        {
          "output_type": "display_data",
          "data": {
            "text/plain": [
              "<IPython.core.display.HTML object>"
            ],
            "text/html": [
              "<img src='https://www.vlr.gg/img/icons/flags/16/ru.png' alt='Flag' style='vertical-align: middle;'> MiniBoo TH: 94.0"
            ]
          },
          "metadata": {}
        },
        {
          "output_type": "display_data",
          "data": {
            "text/plain": [
              "<IPython.core.display.HTML object>"
            ],
            "text/html": [
              "<img src='https://www.vlr.gg/img/icons/flags/16/ru.png' alt='Flag' style='vertical-align: middle;'> Derke FNC: 93.0"
            ]
          },
          "metadata": {}
        },
        {
          "output_type": "display_data",
          "data": {
            "text/plain": [
              "<IPython.core.display.HTML object>"
            ],
            "text/html": [
              "<img src='https://www.vlr.gg/img/icons/flags/16/cz.png' alt='Flag' style='vertical-align: middle;'> Alfajer FNC: 76.0"
            ]
          },
          "metadata": {}
        },
        {
          "output_type": "display_data",
          "data": {
            "text/plain": [
              "<IPython.core.display.HTML object>"
            ],
            "text/html": [
              "<img src='https://www.vlr.gg/img/icons/flags/16/us.png' alt='Flag' style='vertical-align: middle;'> marteen KC: 69.0"
            ]
          },
          "metadata": {}
        },
        {
          "output_type": "display_data",
          "data": {
            "text/plain": [
              "<IPython.core.display.HTML object>"
            ],
            "text/html": [
              "<img src='https://www.vlr.gg/img/icons/flags/16/se.png' alt='Flag' style='vertical-align: middle;'> cNed FUT: 66.0"
            ]
          },
          "metadata": {}
        },
        {
          "output_type": "stream",
          "name": "stdout",
          "text": [
            "\n",
            "--------------------------------------\n",
            "\n",
            "Top 5 Players for Champions Tour 2024: Pacific Stage 1\n",
            "\n",
            "Top 5 Players by K:D:\n"
          ]
        },
        {
          "output_type": "display_data",
          "data": {
            "text/plain": [
              "<IPython.core.display.HTML object>"
            ],
            "text/html": [
              "<img src='https://www.vlr.gg/img/icons/flags/16/kr.png' alt='Flag' style='vertical-align: middle;'> Jemkin RRQ: 1.29"
            ]
          },
          "metadata": {}
        },
        {
          "output_type": "display_data",
          "data": {
            "text/plain": [
              "<IPython.core.display.HTML object>"
            ],
            "text/html": [
              "<img src='https://www.vlr.gg/img/icons/flags/16/un.png' alt='Flag' style='vertical-align: middle;'> something PRX: 1.23"
            ]
          },
          "metadata": {}
        },
        {
          "output_type": "display_data",
          "data": {
            "text/plain": [
              "<IPython.core.display.HTML object>"
            ],
            "text/html": [
              "<img src='https://www.vlr.gg/img/icons/flags/16/kr.png' alt='Flag' style='vertical-align: middle;'> t3xture GEN: 1.2"
            ]
          },
          "metadata": {}
        },
        {
          "output_type": "display_data",
          "data": {
            "text/plain": [
              "<IPython.core.display.HTML object>"
            ],
            "text/html": [
              "<img src='https://www.vlr.gg/img/icons/flags/16/ru.png' alt='Flag' style='vertical-align: middle;'> BeYN DRX: 1.17"
            ]
          },
          "metadata": {}
        },
        {
          "output_type": "display_data",
          "data": {
            "text/plain": [
              "<IPython.core.display.HTML object>"
            ],
            "text/html": [
              "<img src='https://www.vlr.gg/img/icons/flags/16/id.png' alt='Flag' style='vertical-align: middle;'> sScary BLD: 1.15"
            ]
          },
          "metadata": {}
        },
        {
          "output_type": "stream",
          "name": "stdout",
          "text": [
            "\n",
            "Top 5 Players by ACS:\n"
          ]
        },
        {
          "output_type": "display_data",
          "data": {
            "text/plain": [
              "<IPython.core.display.HTML object>"
            ],
            "text/html": [
              "<img src='https://www.vlr.gg/img/icons/flags/16/ph.png' alt='Flag' style='vertical-align: middle;'> Jremy TS: 247.3"
            ]
          },
          "metadata": {}
        },
        {
          "output_type": "display_data",
          "data": {
            "text/plain": [
              "<IPython.core.display.HTML object>"
            ],
            "text/html": [
              "<img src='https://www.vlr.gg/img/icons/flags/16/kr.png' alt='Flag' style='vertical-align: middle;'> Meiy DFM: 241.6"
            ]
          },
          "metadata": {}
        },
        {
          "output_type": "display_data",
          "data": {
            "text/plain": [
              "<IPython.core.display.HTML object>"
            ],
            "text/html": [
              "<img src='https://www.vlr.gg/img/icons/flags/16/kr.png' alt='Flag' style='vertical-align: middle;'> Jemkin RRQ: 235.4"
            ]
          },
          "metadata": {}
        },
        {
          "output_type": "display_data",
          "data": {
            "text/plain": [
              "<IPython.core.display.HTML object>"
            ],
            "text/html": [
              "<img src='https://www.vlr.gg/img/icons/flags/16/kr.png' alt='Flag' style='vertical-align: middle;'> t3xture GEN: 235.3"
            ]
          },
          "metadata": {}
        },
        {
          "output_type": "display_data",
          "data": {
            "text/plain": [
              "<IPython.core.display.HTML object>"
            ],
            "text/html": [
              "<img src='https://www.vlr.gg/img/icons/flags/16/un.png' alt='Flag' style='vertical-align: middle;'> something PRX: 233.5"
            ]
          },
          "metadata": {}
        },
        {
          "output_type": "stream",
          "name": "stdout",
          "text": [
            "\n",
            "Top 5 Players by ADR:\n"
          ]
        },
        {
          "output_type": "display_data",
          "data": {
            "text/plain": [
              "<IPython.core.display.HTML object>"
            ],
            "text/html": [
              "<img src='https://www.vlr.gg/img/icons/flags/16/ph.png' alt='Flag' style='vertical-align: middle;'> Jremy TS: 158.0"
            ]
          },
          "metadata": {}
        },
        {
          "output_type": "display_data",
          "data": {
            "text/plain": [
              "<IPython.core.display.HTML object>"
            ],
            "text/html": [
              "<img src='https://www.vlr.gg/img/icons/flags/16/kr.png' alt='Flag' style='vertical-align: middle;'> Meiy DFM: 155.3"
            ]
          },
          "metadata": {}
        },
        {
          "output_type": "display_data",
          "data": {
            "text/plain": [
              "<IPython.core.display.HTML object>"
            ],
            "text/html": [
              "<img src='https://www.vlr.gg/img/icons/flags/16/kr.png' alt='Flag' style='vertical-align: middle;'> t3xture GEN: 153.7"
            ]
          },
          "metadata": {}
        },
        {
          "output_type": "display_data",
          "data": {
            "text/plain": [
              "<IPython.core.display.HTML object>"
            ],
            "text/html": [
              "<img src='https://www.vlr.gg/img/icons/flags/16/ph.png' alt='Flag' style='vertical-align: middle;'> Lmemore RRQ: 152.2"
            ]
          },
          "metadata": {}
        },
        {
          "output_type": "display_data",
          "data": {
            "text/plain": [
              "<IPython.core.display.HTML object>"
            ],
            "text/html": [
              "<img src='https://www.vlr.gg/img/icons/flags/16/kr.png' alt='Flag' style='vertical-align: middle;'> Jemkin RRQ: 151.4"
            ]
          },
          "metadata": {}
        },
        {
          "output_type": "stream",
          "name": "stdout",
          "text": [
            "\n",
            "Top 5 Players by KPR:\n"
          ]
        },
        {
          "output_type": "display_data",
          "data": {
            "text/plain": [
              "<IPython.core.display.HTML object>"
            ],
            "text/html": [
              "<img src='https://www.vlr.gg/img/icons/flags/16/kr.png' alt='Flag' style='vertical-align: middle;'> Jemkin RRQ: 0.87"
            ]
          },
          "metadata": {}
        },
        {
          "output_type": "display_data",
          "data": {
            "text/plain": [
              "<IPython.core.display.HTML object>"
            ],
            "text/html": [
              "<img src='https://www.vlr.gg/img/icons/flags/16/kr.png' alt='Flag' style='vertical-align: middle;'> t3xture GEN: 0.84"
            ]
          },
          "metadata": {}
        },
        {
          "output_type": "display_data",
          "data": {
            "text/plain": [
              "<IPython.core.display.HTML object>"
            ],
            "text/html": [
              "<img src='https://www.vlr.gg/img/icons/flags/16/kr.png' alt='Flag' style='vertical-align: middle;'> Meiy DFM: 0.84"
            ]
          },
          "metadata": {}
        },
        {
          "output_type": "display_data",
          "data": {
            "text/plain": [
              "<IPython.core.display.HTML object>"
            ],
            "text/html": [
              "<img src='https://www.vlr.gg/img/icons/flags/16/un.png' alt='Flag' style='vertical-align: middle;'> something PRX: 0.83"
            ]
          },
          "metadata": {}
        },
        {
          "output_type": "display_data",
          "data": {
            "text/plain": [
              "<IPython.core.display.HTML object>"
            ],
            "text/html": [
              "<img src='https://www.vlr.gg/img/icons/flags/16/ph.png' alt='Flag' style='vertical-align: middle;'> Jremy TS: 0.82"
            ]
          },
          "metadata": {}
        },
        {
          "output_type": "stream",
          "name": "stdout",
          "text": [
            "\n",
            "Top 5 Players by APR:\n"
          ]
        },
        {
          "output_type": "display_data",
          "data": {
            "text/plain": [
              "<IPython.core.display.HTML object>"
            ],
            "text/html": [
              "<img src='https://www.vlr.gg/img/icons/flags/16/sg.png' alt='Flag' style='vertical-align: middle;'> invy TS: 0.49"
            ]
          },
          "metadata": {}
        },
        {
          "output_type": "display_data",
          "data": {
            "text/plain": [
              "<IPython.core.display.HTML object>"
            ],
            "text/html": [
              "<img src='https://www.vlr.gg/img/icons/flags/16/jp.png' alt='Flag' style='vertical-align: middle;'> stax DRX: 0.47"
            ]
          },
          "metadata": {}
        },
        {
          "output_type": "display_data",
          "data": {
            "text/plain": [
              "<IPython.core.display.HTML object>"
            ],
            "text/html": [
              "<img src='https://www.vlr.gg/img/icons/flags/16/jp.png' alt='Flag' style='vertical-align: middle;'> Munchkin GEN: 0.44"
            ]
          },
          "metadata": {}
        },
        {
          "output_type": "display_data",
          "data": {
            "text/plain": [
              "<IPython.core.display.HTML object>"
            ],
            "text/html": [
              "<img src='https://www.vlr.gg/img/icons/flags/16/ru.png' alt='Flag' style='vertical-align: middle;'> d4v41 PRX: 0.42"
            ]
          },
          "metadata": {}
        },
        {
          "output_type": "display_data",
          "data": {
            "text/plain": [
              "<IPython.core.display.HTML object>"
            ],
            "text/html": [
              "<img src='https://www.vlr.gg/img/icons/flags/16/id.png' alt='Flag' style='vertical-align: middle;'> Karon GEN: 0.42"
            ]
          },
          "metadata": {}
        },
        {
          "output_type": "stream",
          "name": "stdout",
          "text": [
            "\n",
            "Top 5 Players by FK:\n"
          ]
        },
        {
          "output_type": "display_data",
          "data": {
            "text/plain": [
              "<IPython.core.display.HTML object>"
            ],
            "text/html": [
              "<img src='https://www.vlr.gg/img/icons/flags/16/kr.png' alt='Flag' style='vertical-align: middle;'> t3xture GEN: 130.0"
            ]
          },
          "metadata": {}
        },
        {
          "output_type": "display_data",
          "data": {
            "text/plain": [
              "<IPython.core.display.HTML object>"
            ],
            "text/html": [
              "<img src='https://www.vlr.gg/img/icons/flags/16/un.png' alt='Flag' style='vertical-align: middle;'> something PRX: 94.0"
            ]
          },
          "metadata": {}
        },
        {
          "output_type": "display_data",
          "data": {
            "text/plain": [
              "<IPython.core.display.HTML object>"
            ],
            "text/html": [
              "<img src='https://www.vlr.gg/img/icons/flags/16/kr.png' alt='Flag' style='vertical-align: middle;'> Sayaplayer T1: 92.0"
            ]
          },
          "metadata": {}
        },
        {
          "output_type": "display_data",
          "data": {
            "text/plain": [
              "<IPython.core.display.HTML object>"
            ],
            "text/html": [
              "<img src='https://www.vlr.gg/img/icons/flags/16/ph.png' alt='Flag' style='vertical-align: middle;'> Jremy TS: 89.0"
            ]
          },
          "metadata": {}
        },
        {
          "output_type": "display_data",
          "data": {
            "text/plain": [
              "<IPython.core.display.HTML object>"
            ],
            "text/html": [
              "<img src='https://www.vlr.gg/img/icons/flags/16/ph.png' alt='Flag' style='vertical-align: middle;'> Meteor GEN: 82.0"
            ]
          },
          "metadata": {}
        },
        {
          "output_type": "stream",
          "name": "stdout",
          "text": [
            "\n",
            "--------------------------------------\n",
            "\n",
            "Top 5 Players for Champions Tour 2024: Masters Madrid\n",
            "\n",
            "Top 5 Players by K:D:\n"
          ]
        },
        {
          "output_type": "display_data",
          "data": {
            "text/plain": [
              "<IPython.core.display.HTML object>"
            ],
            "text/html": [
              "<img src='https://www.vlr.gg/img/icons/flags/16/un.png' alt='Flag' style='vertical-align: middle;'> johnqt SEN: 1.25"
            ]
          },
          "metadata": {}
        },
        {
          "output_type": "display_data",
          "data": {
            "text/plain": [
              "<IPython.core.display.HTML object>"
            ],
            "text/html": [
              "<img src='https://www.vlr.gg/img/icons/flags/16/us.png' alt='Flag' style='vertical-align: middle;'> Meteor GEN: 1.21"
            ]
          },
          "metadata": {}
        },
        {
          "output_type": "display_data",
          "data": {
            "text/plain": [
              "<IPython.core.display.HTML object>"
            ],
            "text/html": [
              "<img src='https://www.vlr.gg/img/icons/flags/16/ma.png' alt='Flag' style='vertical-align: middle;'> zekken SEN: 1.2"
            ]
          },
          "metadata": {}
        },
        {
          "output_type": "display_data",
          "data": {
            "text/plain": [
              "<IPython.core.display.HTML object>"
            ],
            "text/html": [
              "<img src='https://www.vlr.gg/img/icons/flags/16/kr.png' alt='Flag' style='vertical-align: middle;'> something PRX: 1.13"
            ]
          },
          "metadata": {}
        },
        {
          "output_type": "display_data",
          "data": {
            "text/plain": [
              "<IPython.core.display.HTML object>"
            ],
            "text/html": [
              "<img src='https://www.vlr.gg/img/icons/flags/16/ca.png' alt='Flag' style='vertical-align: middle;'> Munchkin GEN: 1.11"
            ]
          },
          "metadata": {}
        },
        {
          "output_type": "stream",
          "name": "stdout",
          "text": [
            "\n",
            "Top 5 Players by ACS:\n"
          ]
        },
        {
          "output_type": "display_data",
          "data": {
            "text/plain": [
              "<IPython.core.display.HTML object>"
            ],
            "text/html": [
              "<img src='https://www.vlr.gg/img/icons/flags/16/ma.png' alt='Flag' style='vertical-align: middle;'> zekken SEN: 254.1"
            ]
          },
          "metadata": {}
        },
        {
          "output_type": "display_data",
          "data": {
            "text/plain": [
              "<IPython.core.display.HTML object>"
            ],
            "text/html": [
              "<img src='https://www.vlr.gg/img/icons/flags/16/us.png' alt='Flag' style='vertical-align: middle;'> Meteor GEN: 234.9"
            ]
          },
          "metadata": {}
        },
        {
          "output_type": "display_data",
          "data": {
            "text/plain": [
              "<IPython.core.display.HTML object>"
            ],
            "text/html": [
              "<img src='https://www.vlr.gg/img/icons/flags/16/kr.png' alt='Flag' style='vertical-align: middle;'> something PRX: 220.6"
            ]
          },
          "metadata": {}
        },
        {
          "output_type": "display_data",
          "data": {
            "text/plain": [
              "<IPython.core.display.HTML object>"
            ],
            "text/html": [
              "<img src='https://www.vlr.gg/img/icons/flags/16/us.png' alt='Flag' style='vertical-align: middle;'> t3xture GEN: 218.9"
            ]
          },
          "metadata": {}
        },
        {
          "output_type": "display_data",
          "data": {
            "text/plain": [
              "<IPython.core.display.HTML object>"
            ],
            "text/html": [
              "<img src='https://www.vlr.gg/img/icons/flags/16/kr.png' alt='Flag' style='vertical-align: middle;'> TenZ SEN: 210.6"
            ]
          },
          "metadata": {}
        },
        {
          "output_type": "stream",
          "name": "stdout",
          "text": [
            "\n",
            "Top 5 Players by ADR:\n"
          ]
        },
        {
          "output_type": "display_data",
          "data": {
            "text/plain": [
              "<IPython.core.display.HTML object>"
            ],
            "text/html": [
              "<img src='https://www.vlr.gg/img/icons/flags/16/ma.png' alt='Flag' style='vertical-align: middle;'> zekken SEN: 163.8"
            ]
          },
          "metadata": {}
        },
        {
          "output_type": "display_data",
          "data": {
            "text/plain": [
              "<IPython.core.display.HTML object>"
            ],
            "text/html": [
              "<img src='https://www.vlr.gg/img/icons/flags/16/us.png' alt='Flag' style='vertical-align: middle;'> Meteor GEN: 155.5"
            ]
          },
          "metadata": {}
        },
        {
          "output_type": "display_data",
          "data": {
            "text/plain": [
              "<IPython.core.display.HTML object>"
            ],
            "text/html": [
              "<img src='https://www.vlr.gg/img/icons/flags/16/kr.png' alt='Flag' style='vertical-align: middle;'> something PRX: 141.2"
            ]
          },
          "metadata": {}
        },
        {
          "output_type": "display_data",
          "data": {
            "text/plain": [
              "<IPython.core.display.HTML object>"
            ],
            "text/html": [
              "<img src='https://www.vlr.gg/img/icons/flags/16/us.png' alt='Flag' style='vertical-align: middle;'> t3xture GEN: 141.1"
            ]
          },
          "metadata": {}
        },
        {
          "output_type": "display_data",
          "data": {
            "text/plain": [
              "<IPython.core.display.HTML object>"
            ],
            "text/html": [
              "<img src='https://www.vlr.gg/img/icons/flags/16/my.png' alt='Flag' style='vertical-align: middle;'> f0rsakeN PRX: 138.1"
            ]
          },
          "metadata": {}
        },
        {
          "output_type": "stream",
          "name": "stdout",
          "text": [
            "\n",
            "Top 5 Players by KPR:\n"
          ]
        },
        {
          "output_type": "display_data",
          "data": {
            "text/plain": [
              "<IPython.core.display.HTML object>"
            ],
            "text/html": [
              "<img src='https://www.vlr.gg/img/icons/flags/16/ma.png' alt='Flag' style='vertical-align: middle;'> zekken SEN: 0.89"
            ]
          },
          "metadata": {}
        },
        {
          "output_type": "display_data",
          "data": {
            "text/plain": [
              "<IPython.core.display.HTML object>"
            ],
            "text/html": [
              "<img src='https://www.vlr.gg/img/icons/flags/16/us.png' alt='Flag' style='vertical-align: middle;'> Meteor GEN: 0.85"
            ]
          },
          "metadata": {}
        },
        {
          "output_type": "display_data",
          "data": {
            "text/plain": [
              "<IPython.core.display.HTML object>"
            ],
            "text/html": [
              "<img src='https://www.vlr.gg/img/icons/flags/16/kr.png' alt='Flag' style='vertical-align: middle;'> something PRX: 0.78"
            ]
          },
          "metadata": {}
        },
        {
          "output_type": "display_data",
          "data": {
            "text/plain": [
              "<IPython.core.display.HTML object>"
            ],
            "text/html": [
              "<img src='https://www.vlr.gg/img/icons/flags/16/us.png' alt='Flag' style='vertical-align: middle;'> t3xture GEN: 0.78"
            ]
          },
          "metadata": {}
        },
        {
          "output_type": "display_data",
          "data": {
            "text/plain": [
              "<IPython.core.display.HTML object>"
            ],
            "text/html": [
              "<img src='https://www.vlr.gg/img/icons/flags/16/kr.png' alt='Flag' style='vertical-align: middle;'> TenZ SEN: 0.74"
            ]
          },
          "metadata": {}
        },
        {
          "output_type": "stream",
          "name": "stdout",
          "text": [
            "\n",
            "Top 5 Players by APR:\n"
          ]
        },
        {
          "output_type": "display_data",
          "data": {
            "text/plain": [
              "<IPython.core.display.HTML object>"
            ],
            "text/html": [
              "<img src='https://www.vlr.gg/img/icons/flags/16/kr.png' alt='Flag' style='vertical-align: middle;'> TenZ SEN: 0.55"
            ]
          },
          "metadata": {}
        },
        {
          "output_type": "display_data",
          "data": {
            "text/plain": [
              "<IPython.core.display.HTML object>"
            ],
            "text/html": [
              "<img src='https://www.vlr.gg/img/icons/flags/16/kr.png' alt='Flag' style='vertical-align: middle;'> Zellsis SEN: 0.41"
            ]
          },
          "metadata": {}
        },
        {
          "output_type": "display_data",
          "data": {
            "text/plain": [
              "<IPython.core.display.HTML object>"
            ],
            "text/html": [
              "<img src='https://www.vlr.gg/img/icons/flags/16/kr.png' alt='Flag' style='vertical-align: middle;'> d4v41 PRX: 0.41"
            ]
          },
          "metadata": {}
        },
        {
          "output_type": "display_data",
          "data": {
            "text/plain": [
              "<IPython.core.display.HTML object>"
            ],
            "text/html": [
              "<img src='https://www.vlr.gg/img/icons/flags/16/ca.png' alt='Flag' style='vertical-align: middle;'> Munchkin GEN: 0.4"
            ]
          },
          "metadata": {}
        },
        {
          "output_type": "display_data",
          "data": {
            "text/plain": [
              "<IPython.core.display.HTML object>"
            ],
            "text/html": [
              "<img src='https://www.vlr.gg/img/icons/flags/16/ru.png' alt='Flag' style='vertical-align: middle;'> Karon GEN: 0.4"
            ]
          },
          "metadata": {}
        },
        {
          "output_type": "stream",
          "name": "stdout",
          "text": [
            "\n",
            "Top 5 Players by FK:\n"
          ]
        },
        {
          "output_type": "display_data",
          "data": {
            "text/plain": [
              "<IPython.core.display.HTML object>"
            ],
            "text/html": [
              "<img src='https://www.vlr.gg/img/icons/flags/16/ma.png' alt='Flag' style='vertical-align: middle;'> zekken SEN: 79.0"
            ]
          },
          "metadata": {}
        },
        {
          "output_type": "display_data",
          "data": {
            "text/plain": [
              "<IPython.core.display.HTML object>"
            ],
            "text/html": [
              "<img src='https://www.vlr.gg/img/icons/flags/16/kr.png' alt='Flag' style='vertical-align: middle;'> something PRX: 48.0"
            ]
          },
          "metadata": {}
        },
        {
          "output_type": "display_data",
          "data": {
            "text/plain": [
              "<IPython.core.display.HTML object>"
            ],
            "text/html": [
              "<img src='https://www.vlr.gg/img/icons/flags/16/us.png' alt='Flag' style='vertical-align: middle;'> t3xture GEN: 43.0"
            ]
          },
          "metadata": {}
        },
        {
          "output_type": "display_data",
          "data": {
            "text/plain": [
              "<IPython.core.display.HTML object>"
            ],
            "text/html": [
              "<img src='https://www.vlr.gg/img/icons/flags/16/br.png' alt='Flag' style='vertical-align: middle;'> Monyet PRX: 40.0"
            ]
          },
          "metadata": {}
        },
        {
          "output_type": "display_data",
          "data": {
            "text/plain": [
              "<IPython.core.display.HTML object>"
            ],
            "text/html": [
              "<img src='https://www.vlr.gg/img/icons/flags/16/my.png' alt='Flag' style='vertical-align: middle;'> f0rsakeN PRX: 36.0"
            ]
          },
          "metadata": {}
        },
        {
          "output_type": "stream",
          "name": "stdout",
          "text": [
            "\n",
            "--------------------------------------\n",
            "\n"
          ]
        }
      ]
    }
  ]
}