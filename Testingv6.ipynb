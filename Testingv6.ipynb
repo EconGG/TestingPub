{
  "nbformat": 4,
  "nbformat_minor": 0,
  "metadata": {
    "colab": {
      "provenance": [],
      "authorship_tag": "ABX9TyNJ7Q3zyrrpHka7C1oqAX3Q",
      "include_colab_link": true
    },
    "kernelspec": {
      "name": "python3",
      "display_name": "Python 3"
    },
    "language_info": {
      "name": "python"
    }
  },
  "cells": [
    {
      "cell_type": "markdown",
      "metadata": {
        "id": "view-in-github",
        "colab_type": "text"
      },
      "source": [
        "<a href=\"https://colab.research.google.com/github/EconGG/TestingPub/blob/main/Testingv6.ipynb\" target=\"_parent\"><img src=\"https://colab.research.google.com/assets/colab-badge.svg\" alt=\"Open In Colab\"/></a>"
      ]
    },
    {
      "cell_type": "code",
      "execution_count": null,
      "metadata": {
        "id": "7qM7BVoiPj2C",
        "outputId": "4ffc45ac-8cde-405b-ac48-e91b60c4676a",
        "colab": {
          "base_uri": "https://localhost:8080/"
        }
      },
      "outputs": [
        {
          "output_type": "execute_result",
          "data": {
            "text/plain": [
              "625"
            ]
          },
          "metadata": {},
          "execution_count": 9
        }
      ],
      "source": [
        "test = 5*5\n",
        "\n",
        "test2 = test*test\n",
        "test2\n"
      ]
    },
    {
      "cell_type": "code",
      "source": [
        "import datetime\n",
        "import os\n",
        "import pickle\n",
        "\n",
        "TASKS_FILE = \"tasks.pkl\"\n",
        "\n",
        "def display_reminder(task, due_date):\n",
        "    \"\"\"Display a reminder for a task.\"\"\"\n",
        "    print(f\"Reminder: Task '{task}' is due on {due_date.strftime('%Y-%m-%d %H:%M')}\")\n",
        "\n",
        "def load_tasks():\n",
        "    \"\"\"Load tasks from a file.\"\"\"\n",
        "    if os.path.exists(TASKS_FILE):\n",
        "        with open(TASKS_FILE, \"rb\") as f:\n",
        "            return pickle.load(f)\n",
        "    else:\n",
        "        return {}\n",
        "\n",
        "def save_tasks(tasks):\n",
        "    \"\"\"Save tasks to a file.\"\"\"\n",
        "    with open(TASKS_FILE, \"wb\") as f:\n",
        "        pickle.dump(tasks, f)\n",
        "\n",
        "def add_task(tasks):\n",
        "    \"\"\"Add a new task.\"\"\"\n",
        "    task_name = input(\"Enter task name: \")\n",
        "    year = int(input(\"Enter year (YYYY): \"))\n",
        "    month = int(input(\"Enter month (MM): \"))\n",
        "    day = int(input(\"Enter day (DD): \"))\n",
        "    hour = int(input(\"Enter hour (24-hour format, HH): \"))\n",
        "    minute = int(input(\"Enter minute (MM): \"))\n",
        "    due_date = datetime.datetime(year, month, day, hour, minute)\n",
        "    tasks[task_name] = due_date\n",
        "    save_tasks(tasks)\n",
        "    print(\"Task added successfully!\")\n",
        "\n",
        "def delete_task(tasks):\n",
        "    \"\"\"Delete an existing task.\"\"\"\n",
        "    task_name = input(\"Enter task name to delete: \")\n",
        "    if task_name in tasks:\n",
        "        del tasks[task_name]\n",
        "        save_tasks(tasks)\n",
        "        print(\"Task deleted successfully!\")\n",
        "    else:\n",
        "        print(\"Task not found.\")\n",
        "\n",
        "def display_tasks(tasks):\n",
        "    \"\"\"Display all tasks.\"\"\"\n",
        "    if tasks:\n",
        "        print(\"Tasks:\")\n",
        "        for task, due_date in tasks.items():\n",
        "            print(f\"- {task}: {due_date.strftime('%Y-%m-%d %H:%M')}\")\n",
        "    else:\n",
        "        print(\"No tasks.\")\n",
        "\n",
        "def main():\n",
        "    tasks = load_tasks()\n",
        "    while True:\n",
        "        print(\"\\n1. Display tasks\")\n",
        "        print(\"2. Add task\")\n",
        "        print(\"3. Delete task\")\n",
        "        print(\"4. Exit\")\n",
        "        choice = input(\"Enter your choice: \")\n",
        "\n",
        "        if choice == \"1\":\n",
        "            display_tasks(tasks)\n",
        "        elif choice == \"2\":\n",
        "            add_task(tasks)\n",
        "        elif choice == \"3\":\n",
        "            delete_task(tasks)\n",
        "        elif choice == \"4\":\n",
        "            break\n",
        "        else:\n",
        "            print(\"Invalid choice. Please try again.\")\n",
        "\n",
        "if __name__ == \"__main__\":\n",
        "    main()\n"
      ],
      "metadata": {
        "id": "uI0y_ZVYDAoz",
        "outputId": "e447f830-30ae-41e1-edc9-b5bf3bdd85d8",
        "colab": {
          "base_uri": "https://localhost:8080/",
          "height": 894
        }
      },
      "execution_count": 3,
      "outputs": [
        {
          "output_type": "stream",
          "name": "stdout",
          "text": [
            "\n",
            "1. Display tasks\n",
            "2. Add task\n",
            "3. Delete task\n",
            "4. Exit\n",
            "Enter your choice: 1\n",
            "No tasks.\n",
            "\n",
            "1. Display tasks\n",
            "2. Add task\n",
            "3. Delete task\n",
            "4. Exit\n",
            "Enter your choice: 2\n",
            "Enter task name: KPI Analysis\n",
            "Enter year (YYYY): 2024\n",
            "Enter month (MM): 05\n",
            "Enter day (DD): 15\n",
            "Enter hour (24-hour format, HH): 17\n",
            "Enter minute (MM): 00\n",
            "Task added successfully!\n",
            "\n",
            "1. Display tasks\n",
            "2. Add task\n",
            "3. Delete task\n",
            "4. Exit\n",
            "Enter your choice: 1\n",
            "Tasks:\n",
            "- KPI Analysis: 2024-05-15 17:00\n",
            "\n",
            "1. Display tasks\n",
            "2. Add task\n",
            "3. Delete task\n",
            "4. Exit\n"
          ]
        },
        {
          "output_type": "error",
          "ename": "KeyboardInterrupt",
          "evalue": "Interrupted by user",
          "traceback": [
            "\u001b[0;31m---------------------------------------------------------------------------\u001b[0m",
            "\u001b[0;31mKeyboardInterrupt\u001b[0m                         Traceback (most recent call last)",
            "\u001b[0;32m<ipython-input-3-1659b265a4a8>\u001b[0m in \u001b[0;36m<cell line: 76>\u001b[0;34m()\u001b[0m\n\u001b[1;32m     75\u001b[0m \u001b[0;34m\u001b[0m\u001b[0m\n\u001b[1;32m     76\u001b[0m \u001b[0;32mif\u001b[0m \u001b[0m__name__\u001b[0m \u001b[0;34m==\u001b[0m \u001b[0;34m\"__main__\"\u001b[0m\u001b[0;34m:\u001b[0m\u001b[0;34m\u001b[0m\u001b[0;34m\u001b[0m\u001b[0m\n\u001b[0;32m---> 77\u001b[0;31m     \u001b[0mmain\u001b[0m\u001b[0;34m(\u001b[0m\u001b[0;34m)\u001b[0m\u001b[0;34m\u001b[0m\u001b[0;34m\u001b[0m\u001b[0m\n\u001b[0m",
            "\u001b[0;32m<ipython-input-3-1659b265a4a8>\u001b[0m in \u001b[0;36mmain\u001b[0;34m()\u001b[0m\n\u001b[1;32m     61\u001b[0m         \u001b[0mprint\u001b[0m\u001b[0;34m(\u001b[0m\u001b[0;34m\"3. Delete task\"\u001b[0m\u001b[0;34m)\u001b[0m\u001b[0;34m\u001b[0m\u001b[0;34m\u001b[0m\u001b[0m\n\u001b[1;32m     62\u001b[0m         \u001b[0mprint\u001b[0m\u001b[0;34m(\u001b[0m\u001b[0;34m\"4. Exit\"\u001b[0m\u001b[0;34m)\u001b[0m\u001b[0;34m\u001b[0m\u001b[0;34m\u001b[0m\u001b[0m\n\u001b[0;32m---> 63\u001b[0;31m         \u001b[0mchoice\u001b[0m \u001b[0;34m=\u001b[0m \u001b[0minput\u001b[0m\u001b[0;34m(\u001b[0m\u001b[0;34m\"Enter your choice: \"\u001b[0m\u001b[0;34m)\u001b[0m\u001b[0;34m\u001b[0m\u001b[0;34m\u001b[0m\u001b[0m\n\u001b[0m\u001b[1;32m     64\u001b[0m \u001b[0;34m\u001b[0m\u001b[0m\n\u001b[1;32m     65\u001b[0m         \u001b[0;32mif\u001b[0m \u001b[0mchoice\u001b[0m \u001b[0;34m==\u001b[0m \u001b[0;34m\"1\"\u001b[0m\u001b[0;34m:\u001b[0m\u001b[0;34m\u001b[0m\u001b[0;34m\u001b[0m\u001b[0m\n",
            "\u001b[0;32m/usr/local/lib/python3.10/dist-packages/ipykernel/kernelbase.py\u001b[0m in \u001b[0;36mraw_input\u001b[0;34m(self, prompt)\u001b[0m\n\u001b[1;32m    849\u001b[0m                 \u001b[0;34m\"raw_input was called, but this frontend does not support input requests.\"\u001b[0m\u001b[0;34m\u001b[0m\u001b[0;34m\u001b[0m\u001b[0m\n\u001b[1;32m    850\u001b[0m             )\n\u001b[0;32m--> 851\u001b[0;31m         return self._input_request(str(prompt),\n\u001b[0m\u001b[1;32m    852\u001b[0m             \u001b[0mself\u001b[0m\u001b[0;34m.\u001b[0m\u001b[0m_parent_ident\u001b[0m\u001b[0;34m,\u001b[0m\u001b[0;34m\u001b[0m\u001b[0;34m\u001b[0m\u001b[0m\n\u001b[1;32m    853\u001b[0m             \u001b[0mself\u001b[0m\u001b[0;34m.\u001b[0m\u001b[0m_parent_header\u001b[0m\u001b[0;34m,\u001b[0m\u001b[0;34m\u001b[0m\u001b[0;34m\u001b[0m\u001b[0m\n",
            "\u001b[0;32m/usr/local/lib/python3.10/dist-packages/ipykernel/kernelbase.py\u001b[0m in \u001b[0;36m_input_request\u001b[0;34m(self, prompt, ident, parent, password)\u001b[0m\n\u001b[1;32m    893\u001b[0m             \u001b[0;32mexcept\u001b[0m \u001b[0mKeyboardInterrupt\u001b[0m\u001b[0;34m:\u001b[0m\u001b[0;34m\u001b[0m\u001b[0;34m\u001b[0m\u001b[0m\n\u001b[1;32m    894\u001b[0m                 \u001b[0;31m# re-raise KeyboardInterrupt, to truncate traceback\u001b[0m\u001b[0;34m\u001b[0m\u001b[0;34m\u001b[0m\u001b[0m\n\u001b[0;32m--> 895\u001b[0;31m                 \u001b[0;32mraise\u001b[0m \u001b[0mKeyboardInterrupt\u001b[0m\u001b[0;34m(\u001b[0m\u001b[0;34m\"Interrupted by user\"\u001b[0m\u001b[0;34m)\u001b[0m \u001b[0;32mfrom\u001b[0m \u001b[0;32mNone\u001b[0m\u001b[0;34m\u001b[0m\u001b[0;34m\u001b[0m\u001b[0m\n\u001b[0m\u001b[1;32m    896\u001b[0m             \u001b[0;32mexcept\u001b[0m \u001b[0mException\u001b[0m \u001b[0;32mas\u001b[0m \u001b[0me\u001b[0m\u001b[0;34m:\u001b[0m\u001b[0;34m\u001b[0m\u001b[0;34m\u001b[0m\u001b[0m\n\u001b[1;32m    897\u001b[0m                 \u001b[0mself\u001b[0m\u001b[0;34m.\u001b[0m\u001b[0mlog\u001b[0m\u001b[0;34m.\u001b[0m\u001b[0mwarning\u001b[0m\u001b[0;34m(\u001b[0m\u001b[0;34m\"Invalid Message:\"\u001b[0m\u001b[0;34m,\u001b[0m \u001b[0mexc_info\u001b[0m\u001b[0;34m=\u001b[0m\u001b[0;32mTrue\u001b[0m\u001b[0;34m)\u001b[0m\u001b[0;34m\u001b[0m\u001b[0;34m\u001b[0m\u001b[0m\n",
            "\u001b[0;31mKeyboardInterrupt\u001b[0m: Interrupted by user"
          ]
        }
      ]
    },
    {
      "cell_type": "code",
      "source": [
        "import datetime\n",
        "import os\n",
        "import pickle\n",
        "\n",
        "TASKS_FILE = \"tasks.pkl\"\n",
        "\n",
        "def display_reminder(task, due_date):\n",
        "    \"\"\"Display a reminder for a task.\"\"\"\n",
        "    print(f\"Reminder: Task '{task}' is due on {due_date.strftime('%Y-%m-%d %H:%M')}\")\n",
        "\n",
        "def load_tasks():\n",
        "    \"\"\"Load tasks from a file.\"\"\"\n",
        "    if os.path.exists(TASKS_FILE):\n",
        "        with open(TASKS_FILE, \"rb\") as f:\n",
        "            return pickle.load(f)\n",
        "    else:\n",
        "        return []\n",
        "\n",
        "def save_tasks(tasks):\n",
        "    \"\"\"Save tasks to a file.\"\"\"\n",
        "    with open(TASKS_FILE, \"wb\") as f:\n",
        "        pickle.dump(tasks, f)\n",
        "\n",
        "def add_task(tasks):\n",
        "    \"\"\"Add a new task.\"\"\"\n",
        "    try:\n",
        "        task_name = input(\"Enter task name: \")\n",
        "        task_info = input(\"Enter year, month, day, hour, and minute separated by spaces: \")\n",
        "        year, month, day, hour, minute = task_info.split()\n",
        "        due_date = datetime.datetime(int(year), int(month), int(day), int(hour), int(minute))\n",
        "        tasks.append({\"name\": task_name, \"due_date\": due_date})\n",
        "        save_tasks(tasks)\n",
        "        print(\"Task added successfully!\")\n",
        "        display_options(tasks)\n",
        "    except ValueError:\n",
        "        print(\"Invalid input. Please provide task name and task information correctly.\")\n",
        "\n",
        "def delete_task(tasks):\n",
        "    \"\"\"Delete an existing task.\"\"\"\n",
        "    try:\n",
        "        task_number = int(input(\"Enter the number of the task to delete: \"))\n",
        "        if 1 <= task_number <= len(tasks):\n",
        "            del tasks[task_number - 1]\n",
        "            save_tasks(tasks)\n",
        "            print(\"Task deleted successfully!\")\n",
        "        else:\n",
        "            print(\"Invalid task number.\")\n",
        "    except ValueError:\n",
        "        print(\"Invalid input. Please enter a number.\")\n",
        "    display_options(tasks)\n",
        "\n",
        "def display_tasks(tasks):\n",
        "    \"\"\"Display all tasks.\"\"\"\n",
        "    if tasks:\n",
        "        print(\"Tasks:\")\n",
        "        for i, task_data in enumerate(tasks, start=1):\n",
        "            print(f\"{i}. {task_data['name']}: {task_data['due_date'].strftime('%Y-%m-%d %H:%M')}\")\n",
        "    else:\n",
        "        print(\"No tasks.\")\n",
        "    display_options(tasks)\n",
        "\n",
        "def display_options(tasks):\n",
        "    \"\"\"Display options after an action.\"\"\"\n",
        "    print(\"\\n1. Display tasks\")\n",
        "    print(\"2. Add task\")\n",
        "    print(\"3. Delete task\")\n",
        "    print(\"4. Exit\")\n",
        "\n",
        "def main():\n",
        "    tasks = load_tasks()\n",
        "    display_options(tasks)\n",
        "    while True:\n",
        "        choice = input(\"Enter your choice: \")\n",
        "\n",
        "        if choice == \"1\":\n",
        "            display_tasks(tasks)\n",
        "        elif choice == \"2\":\n",
        "            add_task(tasks)\n",
        "        elif choice == \"3\":\n",
        "            delete_task(tasks)\n",
        "        elif choice == \"4\":\n",
        "            break\n",
        "        else:\n",
        "            print(\"Invalid choice. Please try again.\")\n",
        "\n",
        "if __name__ == \"__main__\":\n",
        "    main()"
      ],
      "metadata": {
        "id": "dO3HAeEnDiTE",
        "outputId": "37cfc36b-4fb2-4d77-889b-39aba79bfea8",
        "colab": {
          "base_uri": "https://localhost:8080/",
          "height": 443
        }
      },
      "execution_count": 17,
      "outputs": [
        {
          "name": "stdout",
          "output_type": "stream",
          "text": [
            "\n",
            "1. Display tasks\n",
            "2. Add task\n",
            "3. Delete task\n",
            "4. Exit\n",
            "Enter your choice: 3\n",
            "Enter the number of the task to delete: 1\n"
          ]
        },
        {
          "output_type": "error",
          "ename": "KeyError",
          "evalue": "0",
          "traceback": [
            "\u001b[0;31m---------------------------------------------------------------------------\u001b[0m",
            "\u001b[0;31mKeyError\u001b[0m                                  Traceback (most recent call last)",
            "\u001b[0;32m<ipython-input-17-beac23c465d7>\u001b[0m in \u001b[0;36m<cell line: 86>\u001b[0;34m()\u001b[0m\n\u001b[1;32m     85\u001b[0m \u001b[0;34m\u001b[0m\u001b[0m\n\u001b[1;32m     86\u001b[0m \u001b[0;32mif\u001b[0m \u001b[0m__name__\u001b[0m \u001b[0;34m==\u001b[0m \u001b[0;34m\"__main__\"\u001b[0m\u001b[0;34m:\u001b[0m\u001b[0;34m\u001b[0m\u001b[0;34m\u001b[0m\u001b[0m\n\u001b[0;32m---> 87\u001b[0;31m     \u001b[0mmain\u001b[0m\u001b[0;34m(\u001b[0m\u001b[0;34m)\u001b[0m\u001b[0;34m\u001b[0m\u001b[0;34m\u001b[0m\u001b[0m\n\u001b[0m",
            "\u001b[0;32m<ipython-input-17-beac23c465d7>\u001b[0m in \u001b[0;36mmain\u001b[0;34m()\u001b[0m\n\u001b[1;32m     78\u001b[0m             \u001b[0madd_task\u001b[0m\u001b[0;34m(\u001b[0m\u001b[0mtasks\u001b[0m\u001b[0;34m)\u001b[0m\u001b[0;34m\u001b[0m\u001b[0;34m\u001b[0m\u001b[0m\n\u001b[1;32m     79\u001b[0m         \u001b[0;32melif\u001b[0m \u001b[0mchoice\u001b[0m \u001b[0;34m==\u001b[0m \u001b[0;34m\"3\"\u001b[0m\u001b[0;34m:\u001b[0m\u001b[0;34m\u001b[0m\u001b[0;34m\u001b[0m\u001b[0m\n\u001b[0;32m---> 80\u001b[0;31m             \u001b[0mdelete_task\u001b[0m\u001b[0;34m(\u001b[0m\u001b[0mtasks\u001b[0m\u001b[0;34m)\u001b[0m\u001b[0;34m\u001b[0m\u001b[0;34m\u001b[0m\u001b[0m\n\u001b[0m\u001b[1;32m     81\u001b[0m         \u001b[0;32melif\u001b[0m \u001b[0mchoice\u001b[0m \u001b[0;34m==\u001b[0m \u001b[0;34m\"4\"\u001b[0m\u001b[0;34m:\u001b[0m\u001b[0;34m\u001b[0m\u001b[0;34m\u001b[0m\u001b[0m\n\u001b[1;32m     82\u001b[0m             \u001b[0;32mbreak\u001b[0m\u001b[0;34m\u001b[0m\u001b[0;34m\u001b[0m\u001b[0m\n",
            "\u001b[0;32m<ipython-input-17-beac23c465d7>\u001b[0m in \u001b[0;36mdelete_task\u001b[0;34m(tasks)\u001b[0m\n\u001b[1;32m     41\u001b[0m         \u001b[0mtask_number\u001b[0m \u001b[0;34m=\u001b[0m \u001b[0mint\u001b[0m\u001b[0;34m(\u001b[0m\u001b[0minput\u001b[0m\u001b[0;34m(\u001b[0m\u001b[0;34m\"Enter the number of the task to delete: \"\u001b[0m\u001b[0;34m)\u001b[0m\u001b[0;34m)\u001b[0m\u001b[0;34m\u001b[0m\u001b[0;34m\u001b[0m\u001b[0m\n\u001b[1;32m     42\u001b[0m         \u001b[0;32mif\u001b[0m \u001b[0;36m1\u001b[0m \u001b[0;34m<=\u001b[0m \u001b[0mtask_number\u001b[0m \u001b[0;34m<=\u001b[0m \u001b[0mlen\u001b[0m\u001b[0;34m(\u001b[0m\u001b[0mtasks\u001b[0m\u001b[0;34m)\u001b[0m\u001b[0;34m:\u001b[0m\u001b[0;34m\u001b[0m\u001b[0;34m\u001b[0m\u001b[0m\n\u001b[0;32m---> 43\u001b[0;31m             \u001b[0;32mdel\u001b[0m \u001b[0mtasks\u001b[0m\u001b[0;34m[\u001b[0m\u001b[0mtask_number\u001b[0m \u001b[0;34m-\u001b[0m \u001b[0;36m1\u001b[0m\u001b[0;34m]\u001b[0m\u001b[0;34m\u001b[0m\u001b[0;34m\u001b[0m\u001b[0m\n\u001b[0m\u001b[1;32m     44\u001b[0m             \u001b[0msave_tasks\u001b[0m\u001b[0;34m(\u001b[0m\u001b[0mtasks\u001b[0m\u001b[0;34m)\u001b[0m\u001b[0;34m\u001b[0m\u001b[0;34m\u001b[0m\u001b[0m\n\u001b[1;32m     45\u001b[0m             \u001b[0mprint\u001b[0m\u001b[0;34m(\u001b[0m\u001b[0;34m\"Task deleted successfully!\"\u001b[0m\u001b[0;34m)\u001b[0m\u001b[0;34m\u001b[0m\u001b[0;34m\u001b[0m\u001b[0m\n",
            "\u001b[0;31mKeyError\u001b[0m: 0"
          ]
        }
      ]
    }
  ]
}